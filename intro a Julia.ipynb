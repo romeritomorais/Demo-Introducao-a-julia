{
 "cells": [
  {
   "cell_type": "code",
   "execution_count": 1,
   "metadata": {},
   "outputs": [],
   "source": [
    "using CSV;\n",
    "using DataFrames;\n",
    "using Statistics;"
   ]
  },
  {
   "cell_type": "code",
   "execution_count": 2,
   "metadata": {},
   "outputs": [
    {
     "name": "stdout",
     "output_type": "stream",
     "text": [
      "meu diretorio atual:/home/romerito/Dropbox/Tecnologia/Datascience/Projetos/Julia\n"
     ]
    }
   ],
   "source": [
    "println(\"meu diretorio atual:\", pwd())"
   ]
  },
  {
   "cell_type": "code",
   "execution_count": 3,
   "metadata": {},
   "outputs": [
    {
     "data": {
      "text/html": [
       "<table class=\"data-frame\"><thead><tr><th></th><th>filmtv_id</th><th>titolo_originale</th><th>titolo_italiano</th></tr><tr><th></th><th>Int64</th><th>String</th><th>String</th></tr></thead><tbody><p>5 rows × 14 columns (omitted printing of 11 columns)</p><tr><th>1</th><td>2</td><td>Bugs Bunny's Third Movie: 1001 Rabbit Tales</td><td>Le 1001 favole di Bugs Bunny</td></tr><tr><th>2</th><td>3</td><td>18 anni tra una settimana</td><td>18 anni tra una settimana</td></tr><tr><th>3</th><td>17</td><td>Ride a Wild Pony</td><td>A cavallo di un pony selvaggio</td></tr><tr><th>4</th><td>18</td><td>Diner</td><td>A cena con gli amici</td></tr><tr><th>5</th><td>20</td><td>A che servono questi quattrini?</td><td>A che servono questi quattrini?</td></tr></tbody></table>"
      ],
      "text/latex": [
       "\\begin{tabular}{r|cccc}\n",
       "\t& filmtv\\_id & titolo\\_originale & titolo\\_italiano & \\\\\n",
       "\t\\hline\n",
       "\t& Int64 & String & String & \\\\\n",
       "\t\\hline\n",
       "\t1 & 2 & Bugs Bunny's Third Movie: 1001 Rabbit Tales & Le 1001 favole di Bugs Bunny & $\\dots$ \\\\\n",
       "\t2 & 3 & 18 anni tra una settimana & 18 anni tra una settimana & $\\dots$ \\\\\n",
       "\t3 & 17 & Ride a Wild Pony & A cavallo di un pony selvaggio & $\\dots$ \\\\\n",
       "\t4 & 18 & Diner & A cena con gli amici & $\\dots$ \\\\\n",
       "\t5 & 20 & A che servono questi quattrini? & A che servono questi quattrini? & $\\dots$ \\\\\n",
       "\\end{tabular}\n"
      ],
      "text/plain": [
       "5×14 DataFrame. Omitted printing of 12 columns\n",
       "│ Row │ filmtv_id │ titolo_originale                            │\n",
       "│     │ \u001b[90mInt64\u001b[39m     │ \u001b[90mString\u001b[39m                                      │\n",
       "├─────┼───────────┼─────────────────────────────────────────────┤\n",
       "│ 1   │ 2         │ Bugs Bunny's Third Movie: 1001 Rabbit Tales │\n",
       "│ 2   │ 3         │ 18 anni tra una settimana                   │\n",
       "│ 3   │ 17        │ Ride a Wild Pony                            │\n",
       "│ 4   │ 18        │ Diner                                       │\n",
       "│ 5   │ 20        │ A che servono questi quattrini?             │"
      ]
     },
     "execution_count": 3,
     "metadata": {},
     "output_type": "execute_result"
    }
   ],
   "source": [
    "movies_df = DataFrame(CSV.File(\"/home/romerito/Documents/dataset/movies.csv\"))\n",
    "first(movies_df, 5)"
   ]
  },
  {
   "cell_type": "code",
   "execution_count": 4,
   "metadata": {},
   "outputs": [
    {
     "data": {
      "text/plain": [
       "14-element Array{Symbol,1}:\n",
       " :filmtv_id       \n",
       " :titolo_originale\n",
       " :titolo_italiano \n",
       " :anno            \n",
       " :genere          \n",
       " :durata          \n",
       " :paese           \n",
       " :registi         \n",
       " :attori          \n",
       " :voto_medio      \n",
       " :voti            \n",
       " :descrizione     \n",
       " :note            \n",
       " :miglior_commento"
      ]
     },
     "execution_count": 4,
     "metadata": {},
     "output_type": "execute_result"
    }
   ],
   "source": [
    "names(movies_df)"
   ]
  },
  {
   "cell_type": "code",
   "execution_count": 5,
   "metadata": {},
   "outputs": [
    {
     "data": {
      "text/plain": [
       "14-element Array{Type,1}:\n",
       " Int64                 \n",
       " String                \n",
       " String                \n",
       " Union{Missing, Int64} \n",
       " Union{Missing, String}\n",
       " Int64                 \n",
       " Union{Missing, String}\n",
       " Union{Missing, String}\n",
       " Union{Missing, String}\n",
       " Float64               \n",
       " Int64                 \n",
       " Union{Missing, String}\n",
       " Union{Missing, String}\n",
       " Union{Missing, String}"
      ]
     },
     "execution_count": 5,
     "metadata": {},
     "output_type": "execute_result"
    }
   ],
   "source": [
    "eltype.(eachcol(movies_df))"
   ]
  },
  {
   "cell_type": "code",
   "execution_count": 6,
   "metadata": {},
   "outputs": [
    {
     "data": {
      "text/plain": [
       "(53497, 14)"
      ]
     },
     "execution_count": 6,
     "metadata": {},
     "output_type": "execute_result"
    }
   ],
   "source": [
    "size(movies_df)"
   ]
  },
  {
   "cell_type": "code",
   "execution_count": 7,
   "metadata": {},
   "outputs": [
    {
     "data": {
      "text/plain": [
       "14-element Array{Symbol,1}:\n",
       " :id               \n",
       " :titulo           \n",
       " :null             \n",
       " :ano              \n",
       " :genero           \n",
       " :duracao          \n",
       " :país             \n",
       " :diretores        \n",
       " :atores           \n",
       " :voto_medio       \n",
       " :votos            \n",
       " :descricao        \n",
       " :notas            \n",
       " :melhor_comentario"
      ]
     },
     "execution_count": 7,
     "metadata": {},
     "output_type": "execute_result"
    }
   ],
   "source": [
    "rename!(movies_df, :filmtv_id => :id,\n",
    "                   :titolo_originale => :titulo,\n",
    "                   :titolo_italiano => :null,\n",
    "                   :anno => :ano,\n",
    "                   :genere => :genero,\n",
    "                   :durata => :duracao,\n",
    "                   :paese => :país,\n",
    "                   :registi => :diretores,\n",
    "                   :attori => :atores,\n",
    "                   :voto_medio => :voto_medio,\n",
    "                   :voti => :votos,\n",
    "                   :descrizione => :descricao,\n",
    "                   :note => :notas,\n",
    "                   :miglior_commento => :melhor_comentario)\n",
    "\n",
    "names(movies_df)"
   ]
  },
  {
   "cell_type": "code",
   "execution_count": 37,
   "metadata": {
    "scrolled": true
   },
   "outputs": [
    {
     "data": {
      "text/plain": [
       "5-element Array{Symbol,1}:\n",
       " :titulo \n",
       " :ano    \n",
       " :genero \n",
       " :duracao\n",
       " :votos  "
      ]
     },
     "execution_count": 37,
     "metadata": {},
     "output_type": "execute_result"
    }
   ],
   "source": [
    "select!(movies_df, Not([:id,\n",
    "                        :null,\n",
    "                        :melhor_comentario, \n",
    "                        :diretores,\n",
    "                        :atores,\n",
    "                        :voto_medio,\n",
    "                        :descricao,\n",
    "                        :país,\n",
    "                        :notas]))\n",
    "\n",
    "names(movies_df)"
   ]
  },
  {
   "cell_type": "code",
   "execution_count": 38,
   "metadata": {},
   "outputs": [
    {
     "data": {
      "text/plain": [
       "5-element Array{Type,1}:\n",
       " String                \n",
       " Union{Missing, Int64} \n",
       " Union{Missing, String}\n",
       " Int64                 \n",
       " Int64                 "
      ]
     },
     "execution_count": 38,
     "metadata": {},
     "output_type": "execute_result"
    }
   ],
   "source": [
    "eltype.(eachcol(movies_df))"
   ]
  },
  {
   "cell_type": "code",
   "execution_count": 39,
   "metadata": {},
   "outputs": [
    {
     "data": {
      "text/html": [
       "<table class=\"data-frame\"><thead><tr><th></th><th>titulo</th><th>ano</th><th>genero</th><th>duracao</th><th>votos</th></tr><tr><th></th><th>String</th><th>Int64⍰</th><th>String⍰</th><th>Int64</th><th>Int64</th></tr></thead><tbody><p>2 rows × 5 columns</p><tr><th>1</th><td>Bugs Bunny's Third Movie: 1001 Rabbit Tales</td><td>1982</td><td>Animazione</td><td>76</td><td>31</td></tr><tr><th>2</th><td>18 anni tra una settimana</td><td>1991</td><td>Drammatico</td><td>98</td><td>3</td></tr></tbody></table>"
      ],
      "text/latex": [
       "\\begin{tabular}{r|ccccc}\n",
       "\t& titulo & ano & genero & duracao & votos\\\\\n",
       "\t\\hline\n",
       "\t& String & Int64⍰ & String⍰ & Int64 & Int64\\\\\n",
       "\t\\hline\n",
       "\t1 & Bugs Bunny's Third Movie: 1001 Rabbit Tales & 1982 & Animazione & 76 & 31 \\\\\n",
       "\t2 & 18 anni tra una settimana & 1991 & Drammatico & 98 & 3 \\\\\n",
       "\\end{tabular}\n"
      ],
      "text/plain": [
       "2×5 DataFrame. Omitted printing of 2 columns\n",
       "│ Row │ titulo                                      │ ano    │ genero     │\n",
       "│     │ \u001b[90mString\u001b[39m                                      │ \u001b[90mInt64⍰\u001b[39m │ \u001b[90mString⍰\u001b[39m    │\n",
       "├─────┼─────────────────────────────────────────────┼────────┼────────────┤\n",
       "│ 1   │ Bugs Bunny's Third Movie: 1001 Rabbit Tales │ 1982   │ Animazione │\n",
       "│ 2   │ 18 anni tra una settimana                   │ 1991   │ Drammatico │"
      ]
     },
     "execution_count": 39,
     "metadata": {},
     "output_type": "execute_result"
    }
   ],
   "source": [
    "first(movies_df,2)"
   ]
  },
  {
   "cell_type": "code",
   "execution_count": 40,
   "metadata": {},
   "outputs": [
    {
     "data": {
      "text/plain": [
       "(24.55935846869918, 98.47202646877395)"
      ]
     },
     "execution_count": 40,
     "metadata": {},
     "output_type": "execute_result"
    }
   ],
   "source": [
    "mean(movies_df.votos),\n",
    "mean(movies_df.duracao)"
   ]
  },
  {
   "cell_type": "code",
   "execution_count": 41,
   "metadata": {},
   "outputs": [],
   "source": [
    "sort!(movies_df, :ano);"
   ]
  },
  {
   "cell_type": "code",
   "execution_count": 42,
   "metadata": {},
   "outputs": [
    {
     "data": {
      "text/html": [
       "<table class=\"data-frame\"><thead><tr><th></th><th>titulo</th><th>ano</th><th>genero</th><th>duracao</th></tr><tr><th></th><th>String</th><th>Int64</th><th>String</th><th>Int64</th></tr></thead><tbody><p>53,282 rows × 5 columns (omitted printing of 1 columns)</p><tr><th>1</th><td>Le voleur invisible</td><td>1909</td><td>Cortometraggio</td><td>432</td></tr><tr><th>2</th><td>L'inferno</td><td>1911</td><td>Drammatico</td><td>68</td></tr><tr><th>3</th><td>Robinet aviatore</td><td>1911</td><td>Cortometraggio</td><td>536</td></tr><tr><th>4</th><td>Les amours de la reine Élisabeth</td><td>1912</td><td>Drammatico</td><td>40</td></tr><tr><th>5</th><td>Quo vadis?</td><td>1912</td><td>Drammatico</td><td>120</td></tr><tr><th>6</th><td>From the Manger to the Cross; or, Jesus of Nazareth</td><td>1912</td><td>Biblico</td><td>71</td></tr><tr><th>7</th><td>Fantômas - À l'ombre de la guillotine</td><td>1913</td><td>Poliziesco</td><td>54</td></tr><tr><th>8</th><td>Juve contre Fantômas</td><td>1913</td><td>Poliziesco</td><td>45</td></tr><tr><th>9</th><td>La mort qui tue</td><td>1913</td><td>Poliziesco</td><td>90</td></tr><tr><th>10</th><td>Ma l'amore mio non muore</td><td>1913</td><td>Drammatico</td><td>120</td></tr><tr><th>11</th><td>Ingeborg Holm</td><td>1913</td><td>Drammatico</td><td>96</td></tr><tr><th>12</th><td>Atlantis</td><td>1913</td><td>Drammatico</td><td>121</td></tr><tr><th>13</th><td>Ivanhoe</td><td>1913</td><td>Avventura</td><td>48</td></tr><tr><th>14</th><td>Noch pered Rozhdestvom</td><td>1913</td><td>Fantasy</td><td>41</td></tr><tr><th>15</th><td>Cabiria</td><td>1914</td><td>Drammatico</td><td>114</td></tr><tr><th>16</th><td>Fantômas contre Fantômas</td><td>1914</td><td>Poliziesco</td><td>59</td></tr><tr><th>17</th><td>Le faux magistrat</td><td>1914</td><td>Poliziesco</td><td>70</td></tr><tr><th>18</th><td>Judith of Betulia</td><td>1914</td><td>Drammatico</td><td>46</td></tr><tr><th>19</th><td>Tillie's Punctured Romance</td><td>1914</td><td>Commedia</td><td>82</td></tr><tr><th>20</th><td>Det hemmelighedsfulde X</td><td>1914</td><td>Drammatico</td><td>84</td></tr><tr><th>21</th><td>Sangue blu</td><td>1914</td><td>Drammatico</td><td>55</td></tr><tr><th>22</th><td>The Birth of a Nation</td><td>1915</td><td>Storico</td><td>165</td></tr><tr><th>23</th><td>The Cheat</td><td>1915</td><td>Drammatico</td><td>59</td></tr><tr><th>24</th><td>Rapsodia satanica</td><td>1915</td><td>Drammatico</td><td>40</td></tr><tr><th>25</th><td>Les Vampires</td><td>1915</td><td>Avventura</td><td>57</td></tr><tr><th>26</th><td>Les Vampires</td><td>1915</td><td>Avventura</td><td>86</td></tr><tr><th>27</th><td>Les Vampires</td><td>1915</td><td>Avventura</td><td>113</td></tr><tr><th>28</th><td>Les Vampires</td><td>1915</td><td>Avventura</td><td>124</td></tr><tr><th>29</th><td>Assunta Spina</td><td>1915</td><td>Drammatico</td><td>50</td></tr><tr><th>30</th><td>Hypocrites</td><td>1915</td><td>Drammatico</td><td>49</td></tr><tr><th>&vellip;</th><td>&vellip;</td><td>&vellip;</td><td>&vellip;</td><td>&vellip;</td></tr></tbody></table>"
      ],
      "text/latex": [
       "\\begin{tabular}{r|ccccc}\n",
       "\t& titulo & ano & genero & duracao & \\\\\n",
       "\t\\hline\n",
       "\t& String & Int64 & String & Int64 & \\\\\n",
       "\t\\hline\n",
       "\t1 & Le voleur invisible & 1909 & Cortometraggio & 432 & $\\dots$ \\\\\n",
       "\t2 & L'inferno & 1911 & Drammatico & 68 & $\\dots$ \\\\\n",
       "\t3 & Robinet aviatore & 1911 & Cortometraggio & 536 & $\\dots$ \\\\\n",
       "\t4 & Les amours de la reine Élisabeth & 1912 & Drammatico & 40 & $\\dots$ \\\\\n",
       "\t5 & Quo vadis? & 1912 & Drammatico & 120 & $\\dots$ \\\\\n",
       "\t6 & From the Manger to the Cross; or, Jesus of Nazareth & 1912 & Biblico & 71 & $\\dots$ \\\\\n",
       "\t7 & Fantômas - À l'ombre de la guillotine & 1913 & Poliziesco & 54 & $\\dots$ \\\\\n",
       "\t8 & Juve contre Fantômas & 1913 & Poliziesco & 45 & $\\dots$ \\\\\n",
       "\t9 & La mort qui tue & 1913 & Poliziesco & 90 & $\\dots$ \\\\\n",
       "\t10 & Ma l'amore mio non muore & 1913 & Drammatico & 120 & $\\dots$ \\\\\n",
       "\t11 & Ingeborg Holm & 1913 & Drammatico & 96 & $\\dots$ \\\\\n",
       "\t12 & Atlantis & 1913 & Drammatico & 121 & $\\dots$ \\\\\n",
       "\t13 & Ivanhoe & 1913 & Avventura & 48 & $\\dots$ \\\\\n",
       "\t14 & Noch pered Rozhdestvom & 1913 & Fantasy & 41 & $\\dots$ \\\\\n",
       "\t15 & Cabiria & 1914 & Drammatico & 114 & $\\dots$ \\\\\n",
       "\t16 & Fantômas contre Fantômas & 1914 & Poliziesco & 59 & $\\dots$ \\\\\n",
       "\t17 & Le faux magistrat & 1914 & Poliziesco & 70 & $\\dots$ \\\\\n",
       "\t18 & Judith of Betulia & 1914 & Drammatico & 46 & $\\dots$ \\\\\n",
       "\t19 & Tillie's Punctured Romance & 1914 & Commedia & 82 & $\\dots$ \\\\\n",
       "\t20 & Det hemmelighedsfulde X & 1914 & Drammatico & 84 & $\\dots$ \\\\\n",
       "\t21 & Sangue blu & 1914 & Drammatico & 55 & $\\dots$ \\\\\n",
       "\t22 & The Birth of a Nation & 1915 & Storico & 165 & $\\dots$ \\\\\n",
       "\t23 & The Cheat & 1915 & Drammatico & 59 & $\\dots$ \\\\\n",
       "\t24 & Rapsodia satanica & 1915 & Drammatico & 40 & $\\dots$ \\\\\n",
       "\t25 & Les Vampires & 1915 & Avventura & 57 & $\\dots$ \\\\\n",
       "\t26 & Les Vampires & 1915 & Avventura & 86 & $\\dots$ \\\\\n",
       "\t27 & Les Vampires & 1915 & Avventura & 113 & $\\dots$ \\\\\n",
       "\t28 & Les Vampires & 1915 & Avventura & 124 & $\\dots$ \\\\\n",
       "\t29 & Assunta Spina & 1915 & Drammatico & 50 & $\\dots$ \\\\\n",
       "\t30 & Hypocrites & 1915 & Drammatico & 49 & $\\dots$ \\\\\n",
       "\t$\\dots$ & $\\dots$ & $\\dots$ & $\\dots$ & $\\dots$ &  \\\\\n",
       "\\end{tabular}\n"
      ],
      "text/plain": [
       "53282×5 DataFrame. Omitted printing of 3 columns\n",
       "│ Row   │ titulo                                              │ ano   │\n",
       "│       │ \u001b[90mString\u001b[39m                                              │ \u001b[90mInt64\u001b[39m │\n",
       "├───────┼─────────────────────────────────────────────────────┼───────┤\n",
       "│ 1     │ Le voleur invisible                                 │ 1909  │\n",
       "│ 2     │ L'inferno                                           │ 1911  │\n",
       "│ 3     │ Robinet aviatore                                    │ 1911  │\n",
       "│ 4     │ Les amours de la reine Élisabeth                    │ 1912  │\n",
       "│ 5     │ Quo vadis?                                          │ 1912  │\n",
       "│ 6     │ From the Manger to the Cross; or, Jesus of Nazareth │ 1912  │\n",
       "│ 7     │ Fantômas - À l'ombre de la guillotine               │ 1913  │\n",
       "│ 8     │ Juve contre Fantômas                                │ 1913  │\n",
       "│ 9     │ La mort qui tue                                     │ 1913  │\n",
       "│ 10    │ Ma l'amore mio non muore                            │ 1913  │\n",
       "⋮\n",
       "│ 53272 │ Irréversible - Inversion intégrale                  │ 2019  │\n",
       "│ 53273 │ Bar Giuseppe                                        │ 2019  │\n",
       "│ 53274 │ Our Godfather                                       │ 2019  │\n",
       "│ 53275 │ The Haunting of La Llorona                          │ 2019  │\n",
       "│ 53276 │ Hallowed Ground                                     │ 2019  │\n",
       "│ 53277 │ Travis Scott: Look Mom I Can Fly                    │ 2019  │\n",
       "│ 53278 │ I Am Patrick Swayze                                 │ 2019  │\n",
       "│ 53279 │ Ne pozabi dihati                                    │ 2019  │\n",
       "│ 53280 │ Famosa                                              │ 2019  │\n",
       "│ 53281 │ Clown                                               │ 2019  │\n",
       "│ 53282 │ Big Top Evil                                        │ 2019  │"
      ]
     },
     "execution_count": 42,
     "metadata": {},
     "output_type": "execute_result"
    }
   ],
   "source": [
    "movies_df = dropmissing(movies_df)"
   ]
  },
  {
   "cell_type": "code",
   "execution_count": 43,
   "metadata": {},
   "outputs": [
    {
     "data": {
      "text/plain": [
       "(24.63830186554559, 98.47120978942232)"
      ]
     },
     "execution_count": 43,
     "metadata": {},
     "output_type": "execute_result"
    }
   ],
   "source": [
    "mean(movies_df.votos),\n",
    "mean(movies_df.duracao)"
   ]
  },
  {
   "cell_type": "code",
   "execution_count": 44,
   "metadata": {},
   "outputs": [
    {
     "data": {
      "text/plain": [
       "5-element Array{Symbol,1}:\n",
       " :titulo \n",
       " :ano    \n",
       " :genero \n",
       " :duracao\n",
       " :votos  "
      ]
     },
     "execution_count": 44,
     "metadata": {},
     "output_type": "execute_result"
    }
   ],
   "source": [
    "names(movies_df)"
   ]
  },
  {
   "cell_type": "code",
   "execution_count": 45,
   "metadata": {},
   "outputs": [
    {
     "data": {
      "text/html": [
       "<table class=\"data-frame\"><thead><tr><th></th><th>titulo</th><th>ano</th><th>genero</th><th>duracao</th><th>votos</th></tr><tr><th></th><th>String</th><th>Int64</th><th>String</th><th>Int64</th><th>Int64</th></tr></thead><tbody><p>5 rows × 5 columns</p><tr><th>1</th><td>Le voleur invisible</td><td>1909</td><td>Cortometraggio</td><td>432</td><td>3</td></tr><tr><th>2</th><td>L'inferno</td><td>1911</td><td>Drammatico</td><td>68</td><td>24</td></tr><tr><th>3</th><td>Robinet aviatore</td><td>1911</td><td>Cortometraggio</td><td>536</td><td>3</td></tr><tr><th>4</th><td>Les amours de la reine Élisabeth</td><td>1912</td><td>Drammatico</td><td>40</td><td>2</td></tr><tr><th>5</th><td>Quo vadis?</td><td>1912</td><td>Drammatico</td><td>120</td><td>7</td></tr></tbody></table>"
      ],
      "text/latex": [
       "\\begin{tabular}{r|ccccc}\n",
       "\t& titulo & ano & genero & duracao & votos\\\\\n",
       "\t\\hline\n",
       "\t& String & Int64 & String & Int64 & Int64\\\\\n",
       "\t\\hline\n",
       "\t1 & Le voleur invisible & 1909 & Cortometraggio & 432 & 3 \\\\\n",
       "\t2 & L'inferno & 1911 & Drammatico & 68 & 24 \\\\\n",
       "\t3 & Robinet aviatore & 1911 & Cortometraggio & 536 & 3 \\\\\n",
       "\t4 & Les amours de la reine Élisabeth & 1912 & Drammatico & 40 & 2 \\\\\n",
       "\t5 & Quo vadis? & 1912 & Drammatico & 120 & 7 \\\\\n",
       "\\end{tabular}\n"
      ],
      "text/plain": [
       "5×5 DataFrame. Omitted printing of 1 columns\n",
       "│ Row │ titulo                           │ ano   │ genero         │ duracao │\n",
       "│     │ \u001b[90mString\u001b[39m                           │ \u001b[90mInt64\u001b[39m │ \u001b[90mString\u001b[39m         │ \u001b[90mInt64\u001b[39m   │\n",
       "├─────┼──────────────────────────────────┼───────┼────────────────┼─────────┤\n",
       "│ 1   │ Le voleur invisible              │ 1909  │ Cortometraggio │ 432     │\n",
       "│ 2   │ L'inferno                        │ 1911  │ Drammatico     │ 68      │\n",
       "│ 3   │ Robinet aviatore                 │ 1911  │ Cortometraggio │ 536     │\n",
       "│ 4   │ Les amours de la reine Élisabeth │ 1912  │ Drammatico     │ 40      │\n",
       "│ 5   │ Quo vadis?                       │ 1912  │ Drammatico     │ 120     │"
      ]
     },
     "execution_count": 45,
     "metadata": {},
     "output_type": "execute_result"
    }
   ],
   "source": [
    "first(movies_df,5)"
   ]
  },
  {
   "cell_type": "code",
   "execution_count": 46,
   "metadata": {},
   "outputs": [
    {
     "data": {
      "text/html": [
       "<table class=\"data-frame\"><thead><tr><th></th><th>titulo</th><th>ano</th><th>genero</th><th>duracao</th><th>votos</th></tr><tr><th></th><th>String</th><th>Int64</th><th>String</th><th>Int64</th><th>Int64</th></tr></thead><tbody><p>52 rows × 5 columns</p><tr><th>1</th><td>From the Manger to the Cross; or, Jesus of Nazareth</td><td>1912</td><td>Biblico</td><td>71</td><td>2</td></tr><tr><th>2</th><td>Salome</td><td>1923</td><td>Biblico</td><td>72</td><td>3</td></tr><tr><th>3</th><td>The King of Kings</td><td>1927</td><td>Biblico</td><td>112</td><td>3</td></tr><tr><th>4</th><td>The Robe</td><td>1953</td><td>Biblico</td><td>135</td><td>51</td></tr><tr><th>5</th><td>The Ten Commandments</td><td>1956</td><td>Biblico</td><td>220</td><td>141</td></tr><tr><th>6</th><td>Erode il Grande</td><td>1958</td><td>Biblico</td><td>95</td><td>10</td></tr><tr><th>7</th><td>Giuditta e Oloferne</td><td>1958</td><td>Biblico</td><td>100</td><td>6</td></tr><tr><th>8</th><td>Ben Hur</td><td>1959</td><td>Biblico</td><td>212</td><td>226</td></tr><tr><th>9</th><td>The Big Fisherman</td><td>1959</td><td>Biblico</td><td>166</td><td>1</td></tr><tr><th>10</th><td>La spada e la croce</td><td>1959</td><td>Biblico</td><td>106</td><td>13</td></tr><tr><th>11</th><td>Solomon and Sheba</td><td>1959</td><td>Biblico</td><td>120</td><td>17</td></tr><tr><th>12</th><td>David e Golia</td><td>1959</td><td>Biblico</td><td>113</td><td>10</td></tr><tr><th>13</th><td>The Story of Ruth</td><td>1960</td><td>Biblico</td><td>132</td><td>11</td></tr><tr><th>14</th><td>Ester e il re</td><td>1960</td><td>Biblico</td><td>109</td><td>7</td></tr><tr><th>15</th><td>Giuseppe venduto dai fratelli</td><td>1961</td><td>Biblico</td><td>102</td><td>7</td></tr><tr><th>16</th><td>The King of Kings</td><td>1961</td><td>Biblico</td><td>168</td><td>49</td></tr><tr><th>17</th><td>Giacobbe, l'uomo che lottò con Dio</td><td>1963</td><td>Biblico</td><td>84</td><td>2</td></tr><tr><th>18</th><td>Saul e David</td><td>1964</td><td>Biblico</td><td>115</td><td>3</td></tr><tr><th>19</th><td>The Greatest Story Ever Told</td><td>1965</td><td>Biblico</td><td>200</td><td>23</td></tr><tr><th>20</th><td>Il Messia</td><td>1975</td><td>Biblico</td><td>140</td><td>17</td></tr><tr><th>21</th><td>Gesù di Nazareth</td><td>1977</td><td>Biblico</td><td>371</td><td>69</td></tr><tr><th>22</th><td>Esther</td><td>1985</td><td>Biblico</td><td>90</td><td>3</td></tr><tr><th>23</th><td>Genesi - La Creazione e il Diluvio</td><td>1994</td><td>Biblico</td><td>101</td><td>15</td></tr><tr><th>24</th><td>Viaggiu dulurusu</td><td>1995</td><td>Biblico</td><td>41</td><td>6</td></tr><tr><th>25</th><td>Samson and Delilah</td><td>1996</td><td>Biblico</td><td>172</td><td>5</td></tr><tr><th>26</th><td>Il quarto re</td><td>1997</td><td>Biblico</td><td>90</td><td>14</td></tr><tr><th>27</th><td>Solomon</td><td>1997</td><td>Biblico</td><td>180</td><td>6</td></tr><tr><th>28</th><td>David</td><td>1997</td><td>Biblico</td><td>190</td><td>4</td></tr><tr><th>29</th><td>Jeremiah</td><td>1998</td><td>Biblico</td><td>90</td><td>7</td></tr><tr><th>30</th><td>Giuseppe di Nazareth</td><td>1999</td><td>Biblico</td><td>96</td><td>7</td></tr><tr><th>&vellip;</th><td>&vellip;</td><td>&vellip;</td><td>&vellip;</td><td>&vellip;</td><td>&vellip;</td></tr></tbody></table>"
      ],
      "text/latex": [
       "\\begin{tabular}{r|ccccc}\n",
       "\t& titulo & ano & genero & duracao & votos\\\\\n",
       "\t\\hline\n",
       "\t& String & Int64 & String & Int64 & Int64\\\\\n",
       "\t\\hline\n",
       "\t1 & From the Manger to the Cross; or, Jesus of Nazareth & 1912 & Biblico & 71 & 2 \\\\\n",
       "\t2 & Salome & 1923 & Biblico & 72 & 3 \\\\\n",
       "\t3 & The King of Kings & 1927 & Biblico & 112 & 3 \\\\\n",
       "\t4 & The Robe & 1953 & Biblico & 135 & 51 \\\\\n",
       "\t5 & The Ten Commandments & 1956 & Biblico & 220 & 141 \\\\\n",
       "\t6 & Erode il Grande & 1958 & Biblico & 95 & 10 \\\\\n",
       "\t7 & Giuditta e Oloferne & 1958 & Biblico & 100 & 6 \\\\\n",
       "\t8 & Ben Hur & 1959 & Biblico & 212 & 226 \\\\\n",
       "\t9 & The Big Fisherman & 1959 & Biblico & 166 & 1 \\\\\n",
       "\t10 & La spada e la croce & 1959 & Biblico & 106 & 13 \\\\\n",
       "\t11 & Solomon and Sheba & 1959 & Biblico & 120 & 17 \\\\\n",
       "\t12 & David e Golia & 1959 & Biblico & 113 & 10 \\\\\n",
       "\t13 & The Story of Ruth & 1960 & Biblico & 132 & 11 \\\\\n",
       "\t14 & Ester e il re & 1960 & Biblico & 109 & 7 \\\\\n",
       "\t15 & Giuseppe venduto dai fratelli & 1961 & Biblico & 102 & 7 \\\\\n",
       "\t16 & The King of Kings & 1961 & Biblico & 168 & 49 \\\\\n",
       "\t17 & Giacobbe, l'uomo che lottò con Dio & 1963 & Biblico & 84 & 2 \\\\\n",
       "\t18 & Saul e David & 1964 & Biblico & 115 & 3 \\\\\n",
       "\t19 & The Greatest Story Ever Told & 1965 & Biblico & 200 & 23 \\\\\n",
       "\t20 & Il Messia & 1975 & Biblico & 140 & 17 \\\\\n",
       "\t21 & Gesù di Nazareth & 1977 & Biblico & 371 & 69 \\\\\n",
       "\t22 & Esther & 1985 & Biblico & 90 & 3 \\\\\n",
       "\t23 & Genesi - La Creazione e il Diluvio & 1994 & Biblico & 101 & 15 \\\\\n",
       "\t24 & Viaggiu dulurusu & 1995 & Biblico & 41 & 6 \\\\\n",
       "\t25 & Samson and Delilah & 1996 & Biblico & 172 & 5 \\\\\n",
       "\t26 & Il quarto re & 1997 & Biblico & 90 & 14 \\\\\n",
       "\t27 & Solomon & 1997 & Biblico & 180 & 6 \\\\\n",
       "\t28 & David & 1997 & Biblico & 190 & 4 \\\\\n",
       "\t29 & Jeremiah & 1998 & Biblico & 90 & 7 \\\\\n",
       "\t30 & Giuseppe di Nazareth & 1999 & Biblico & 96 & 7 \\\\\n",
       "\t$\\dots$ & $\\dots$ & $\\dots$ & $\\dots$ & $\\dots$ & $\\dots$ \\\\\n",
       "\\end{tabular}\n"
      ],
      "text/plain": [
       "52×5 DataFrame. Omitted printing of 2 columns\n",
       "│ Row │ titulo                                              │ ano   │ genero  │\n",
       "│     │ \u001b[90mString\u001b[39m                                              │ \u001b[90mInt64\u001b[39m │ \u001b[90mString\u001b[39m  │\n",
       "├─────┼─────────────────────────────────────────────────────┼───────┼─────────┤\n",
       "│ 1   │ From the Manger to the Cross; or, Jesus of Nazareth │ 1912  │ Biblico │\n",
       "│ 2   │ Salome                                              │ 1923  │ Biblico │\n",
       "│ 3   │ The King of Kings                                   │ 1927  │ Biblico │\n",
       "│ 4   │ The Robe                                            │ 1953  │ Biblico │\n",
       "│ 5   │ The Ten Commandments                                │ 1956  │ Biblico │\n",
       "│ 6   │ Erode il Grande                                     │ 1958  │ Biblico │\n",
       "│ 7   │ Giuditta e Oloferne                                 │ 1958  │ Biblico │\n",
       "│ 8   │ Ben Hur                                             │ 1959  │ Biblico │\n",
       "│ 9   │ The Big Fisherman                                   │ 1959  │ Biblico │\n",
       "│ 10  │ La spada e la croce                                 │ 1959  │ Biblico │\n",
       "⋮\n",
       "│ 42  │ Maria di Nazaret                                    │ 2012  │ Biblico │\n",
       "│ 43  │ The Bible: In the Beginnings & Exodus               │ 2013  │ Biblico │\n",
       "│ 44  │ The Bible: Homeland & Kingdom                       │ 2013  │ Biblico │\n",
       "│ 45  │ The Bible: Survival & Hope                          │ 2013  │ Biblico │\n",
       "│ 46  │ The Bible: Mission & Betrayal                       │ 2013  │ Biblico │\n",
       "│ 47  │ The Bible: Passion & Courage                        │ 2013  │ Biblico │\n",
       "│ 48  │ Son of God                                          │ 2014  │ Biblico │\n",
       "│ 49  │ The Gospel of John                                  │ 2014  │ Biblico │\n",
       "│ 50  │ The Gospel of Mark                                  │ 2015  │ Biblico │\n",
       "│ 51  │ The Gospel of Luke                                  │ 2015  │ Biblico │\n",
       "│ 52  │ Samson                                              │ 2018  │ Biblico │"
      ]
     },
     "execution_count": 46,
     "metadata": {},
     "output_type": "execute_result"
    }
   ],
   "source": [
    "movies_df[occursin.(\"Biblico\", movies_df.genero), :]"
   ]
  },
  {
   "cell_type": "code",
   "execution_count": 47,
   "metadata": {},
   "outputs": [
    {
     "data": {
      "text/html": [
       "<p><b>GroupedDataFrame with 28 groups based on key: genero</b></p><p><i>First Group (19 rows): genero = \"Cortometraggio\"</i></p><table class=\"data-frame\"><thead><tr><th></th><th>titulo</th></tr><tr><th></th><th>String</th></tr></thead><tbody><tr><th>1</th><td>Le voleur invisible</td></tr><tr><th>2</th><td>Robinet aviatore</td></tr><tr><th>3</th><td>Poslovi konzula Dorgena</td></tr><tr><th>4</th><td>The Volunteer</td></tr><tr><th>5</th><td>Visa de censure n° X</td></tr><tr><th>6</th><td>D - Non diversi giorni si pensa splendessero alle prime origini del nascente mondo o che avessero temperatura diversa</td></tr><tr><th>7</th><td>Superstar: The Karen Carpenter Story</td></tr><tr><th>8</th><td>In coda della coda</td></tr><tr><th>9</th><td>Astrolite</td></tr><tr><th>10</th><td>Za horâ kaiki gekijô: Kaiki! Shinin shôjo</td></tr><tr><th>11</th><td>Haze</td></tr><tr><th>12</th><td>Walang alaala ang mga paru-paro</td></tr><tr><th>13</th><td>42 One Dream Rush</td></tr><tr><th>14</th><td>Boro in the Box</td></tr><tr><th>15</th><td>Roma, Napoli, Venezia… in un crescendo rossiniano</td></tr><tr><th>16</th><td>Due Sicilie</td></tr><tr><th>17</th><td>Sol negro</td></tr><tr><th>18</th><td>Oggi sono passato e tu non c'eri</td></tr><tr><th>19</th><td>Electric Swan</td></tr></tbody></table><p>&vellip;</p><p><i>Last Group (12 rows): genero = \"Sportivo\"</i></p><table class=\"data-frame\"><thead><tr><th></th><th>titulo</th><th>ano</th><th>genero</th><th>duracao</th><th>votos</th></tr><tr><th></th><th>String</th><th>Int64</th><th>String</th><th>Int64</th><th>Int64</th></tr></thead><tbody><tr><th>1</th><td>The Club</td><td>1979</td><td>Sportivo</td><td>96</td><td>1</td></tr><tr><th>2</th><td>Escape to Victory</td><td>1981</td><td>Sportivo</td><td>113</td><td>256</td></tr><tr><th>3</th><td>You've Got a Friend</td><td>2007</td><td>Sportivo</td><td>120</td><td>1</td></tr><tr><th>4</th><td>Fighting</td><td>2009</td><td>Sportivo</td><td>105</td><td>44</td></tr><tr><th>5</th><td>Slow Moe</td><td>2010</td><td>Sportivo</td><td>89</td><td>3</td></tr><tr><th>6</th><td>The 5th Quarter</td><td>2010</td><td>Sportivo</td><td>90</td><td>4</td></tr><tr><th>7</th><td>30 for 30: Once Brothers</td><td>2010</td><td>Sportivo</td><td>79</td><td>3</td></tr><tr><th>8</th><td>Pretty Tough</td><td>2011</td><td>Sportivo</td><td>104</td><td>2</td></tr><tr><th>9</th><td>Crooked Arrows</td><td>2012</td><td>Sportivo</td><td>100</td><td>3</td></tr><tr><th>10</th><td>Ricordando Mosca</td><td>2012</td><td>Sportivo</td><td>54</td><td>1</td></tr><tr><th>11</th><td>Snake and Mongoose</td><td>2013</td><td>Sportivo</td><td>101</td><td>1</td></tr><tr><th>12</th><td>Nika</td><td>2016</td><td>Sportivo</td><td>90</td><td>2</td></tr></tbody></table>"
      ],
      "text/latex": [
       "GroupedDataFrame with 28 groups based on key: genero\n",
       "\n",
       "First Group (19 rows): genero = \"Cortometraggio\"\n",
       "\n",
       "\\begin{tabular}{r|cc}\n",
       "\t& titulo & \\\\\n",
       "\t\\hline\n",
       "\t& String & \\\\\n",
       "\t\\hline\n",
       "\t1 & Le voleur invisible & $\\dots$ \\\\\n",
       "\t2 & Robinet aviatore & $\\dots$ \\\\\n",
       "\t3 & Poslovi konzula Dorgena & $\\dots$ \\\\\n",
       "\t4 & The Volunteer & $\\dots$ \\\\\n",
       "\t5 & Visa de censure n° X & $\\dots$ \\\\\n",
       "\t6 & D - Non diversi giorni si pensa splendessero alle prime origini del nascente mondo o che avessero temperatura diversa & $\\dots$ \\\\\n",
       "\t7 & Superstar: The Karen Carpenter Story & $\\dots$ \\\\\n",
       "\t8 & In coda della coda & $\\dots$ \\\\\n",
       "\t9 & Astrolite & $\\dots$ \\\\\n",
       "\t10 & Za horâ kaiki gekijô: Kaiki! Shinin shôjo & $\\dots$ \\\\\n",
       "\t11 & Haze & $\\dots$ \\\\\n",
       "\t12 & Walang alaala ang mga paru-paro & $\\dots$ \\\\\n",
       "\t13 & 42 One Dream Rush & $\\dots$ \\\\\n",
       "\t14 & Boro in the Box & $\\dots$ \\\\\n",
       "\t15 & Roma, Napoli, Venezia… in un crescendo rossiniano & $\\dots$ \\\\\n",
       "\t16 & Due Sicilie & $\\dots$ \\\\\n",
       "\t17 & Sol negro & $\\dots$ \\\\\n",
       "\t18 & Oggi sono passato e tu non c'eri & $\\dots$ \\\\\n",
       "\t19 & Electric Swan & $\\dots$ \\\\\n",
       "\\end{tabular}\n",
       "\n",
       "$\\dots$\n",
       "\n",
       "Last Group (12 rows): genero = \"Sportivo\"\n",
       "\n",
       "\\begin{tabular}{r|ccccc}\n",
       "\t& titulo & ano & genero & duracao & votos\\\\\n",
       "\t\\hline\n",
       "\t& String & Int64 & String & Int64 & Int64\\\\\n",
       "\t\\hline\n",
       "\t1 & The Club & 1979 & Sportivo & 96 & 1 \\\\\n",
       "\t2 & Escape to Victory & 1981 & Sportivo & 113 & 256 \\\\\n",
       "\t3 & You've Got a Friend & 2007 & Sportivo & 120 & 1 \\\\\n",
       "\t4 & Fighting & 2009 & Sportivo & 105 & 44 \\\\\n",
       "\t5 & Slow Moe & 2010 & Sportivo & 89 & 3 \\\\\n",
       "\t6 & The 5th Quarter & 2010 & Sportivo & 90 & 4 \\\\\n",
       "\t7 & 30 for 30: Once Brothers & 2010 & Sportivo & 79 & 3 \\\\\n",
       "\t8 & Pretty Tough & 2011 & Sportivo & 104 & 2 \\\\\n",
       "\t9 & Crooked Arrows & 2012 & Sportivo & 100 & 3 \\\\\n",
       "\t10 & Ricordando Mosca & 2012 & Sportivo & 54 & 1 \\\\\n",
       "\t11 & Snake and Mongoose & 2013 & Sportivo & 101 & 1 \\\\\n",
       "\t12 & Nika & 2016 & Sportivo & 90 & 2 \\\\\n",
       "\\end{tabular}\n"
      ],
      "text/plain": [
       "GroupedDataFrame with 28 groups based on key: genero\n",
       "First Group (19 rows): genero = \"Cortometraggio\". Omitted printing of 5 columns\n",
       "│ Row │ │     │ ├─────┼\n",
       "│ 1   │ │ 2   │ │ 3   │ │ 4   │ │ 5   │ │ 6   │ │ 7   │ │ 8   │ │ 9   │ │ 10  │ │ 11  │ │ 12  │ │ 13  │ │ 14  │ │ 15  │ │ 16  │ │ 17  │ │ 18  │ │ 19  │ \n",
       "⋮\n",
       "Last Group (12 rows): genero = \"Sportivo\"\n",
       "│ Row │ titulo                   │ ano   │ genero   │ duracao │ votos │\n",
       "│     │ \u001b[90mString\u001b[39m                   │ \u001b[90mInt64\u001b[39m │ \u001b[90mString\u001b[39m   │ \u001b[90mInt64\u001b[39m   │ \u001b[90mInt64\u001b[39m │\n",
       "├─────┼──────────────────────────┼───────┼──────────┼─────────┼───────┤\n",
       "│ 1   │ The Club                 │ 1979  │ Sportivo │ 96      │ 1     │\n",
       "│ 2   │ Escape to Victory        │ 1981  │ Sportivo │ 113     │ 256   │\n",
       "│ 3   │ You've Got a Friend      │ 2007  │ Sportivo │ 120     │ 1     │\n",
       "│ 4   │ Fighting                 │ 2009  │ Sportivo │ 105     │ 44    │\n",
       "│ 5   │ Slow Moe                 │ 2010  │ Sportivo │ 89      │ 3     │\n",
       "│ 6   │ The 5th Quarter          │ 2010  │ Sportivo │ 90      │ 4     │\n",
       "│ 7   │ 30 for 30: Once Brothers │ 2010  │ Sportivo │ 79      │ 3     │\n",
       "│ 8   │ Pretty Tough             │ 2011  │ Sportivo │ 104     │ 2     │\n",
       "│ 9   │ Crooked Arrows           │ 2012  │ Sportivo │ 100     │ 3     │\n",
       "│ 10  │ Ricordando Mosca         │ 2012  │ Sportivo │ 54      │ 1     │\n",
       "│ 11  │ Snake and Mongoose       │ 2013  │ Sportivo │ 101     │ 1     │\n",
       "│ 12  │ Nika                     │ 2016  │ Sportivo │ 90      │ 2     │"
      ]
     },
     "execution_count": 47,
     "metadata": {},
     "output_type": "execute_result"
    }
   ],
   "source": [
    "groupby(movies_df, [:genero])"
   ]
  },
  {
   "cell_type": "code",
   "execution_count": 48,
   "metadata": {},
   "outputs": [
    {
     "data": {
      "text/html": [
       "<table class=\"data-frame\"><thead><tr><th></th><th>genero</th><th>x1</th></tr><tr><th></th><th>String</th><th>Float64</th></tr></thead><tbody><p>28 rows × 2 columns</p><tr><th>1</th><td>Cortometraggio</td><td>3.36842</td></tr><tr><th>2</th><td>Drammatico</td><td>21.9793</td></tr><tr><th>3</th><td>Biblico</td><td>24.3462</td></tr><tr><th>4</th><td>Poliziesco</td><td>20.9291</td></tr><tr><th>5</th><td>Avventura</td><td>16.6926</td></tr><tr><th>6</th><td>Fantasy</td><td>59.2495</td></tr><tr><th>7</th><td>Commedia</td><td>26.3204</td></tr><tr><th>8</th><td>Storico</td><td>25.2561</td></tr><tr><th>9</th><td>Mélo</td><td>61.2105</td></tr><tr><th>10</th><td>Horror</td><td>31.1787</td></tr><tr><th>11</th><td>Documentario</td><td>6.05857</td></tr><tr><th>12</th><td>Thriller</td><td>21.3632</td></tr><tr><th>13</th><td>Western</td><td>21.7792</td></tr><tr><th>14</th><td>Guerra</td><td>31.7921</td></tr><tr><th>15</th><td>Grottesco</td><td>61.6514</td></tr><tr><th>16</th><td>Azione</td><td>25.0139</td></tr><tr><th>17</th><td>Biografico</td><td>29.5668</td></tr><tr><th>18</th><td>Gangster</td><td>160.656</td></tr><tr><th>19</th><td>Sentimentale</td><td>11.1892</td></tr><tr><th>20</th><td>Mitologico</td><td>25.5244</td></tr><tr><th>21</th><td>Animazione</td><td>33.1</td></tr><tr><th>22</th><td>Musicale</td><td>14.7698</td></tr><tr><th>23</th><td>Spionaggio</td><td>32.2226</td></tr><tr><th>24</th><td>Sperimentale</td><td>9.40553</td></tr><tr><th>25</th><td>Noir</td><td>71.2445</td></tr><tr><th>26</th><td>Catastrofico</td><td>41.6437</td></tr><tr><th>27</th><td>Supereroi</td><td>215.675</td></tr><tr><th>28</th><td>Sportivo</td><td>26.75</td></tr></tbody></table>"
      ],
      "text/latex": [
       "\\begin{tabular}{r|cc}\n",
       "\t& genero & x1\\\\\n",
       "\t\\hline\n",
       "\t& String & Float64\\\\\n",
       "\t\\hline\n",
       "\t1 & Cortometraggio & 3.36842 \\\\\n",
       "\t2 & Drammatico & 21.9793 \\\\\n",
       "\t3 & Biblico & 24.3462 \\\\\n",
       "\t4 & Poliziesco & 20.9291 \\\\\n",
       "\t5 & Avventura & 16.6926 \\\\\n",
       "\t6 & Fantasy & 59.2495 \\\\\n",
       "\t7 & Commedia & 26.3204 \\\\\n",
       "\t8 & Storico & 25.2561 \\\\\n",
       "\t9 & Mélo & 61.2105 \\\\\n",
       "\t10 & Horror & 31.1787 \\\\\n",
       "\t11 & Documentario & 6.05857 \\\\\n",
       "\t12 & Thriller & 21.3632 \\\\\n",
       "\t13 & Western & 21.7792 \\\\\n",
       "\t14 & Guerra & 31.7921 \\\\\n",
       "\t15 & Grottesco & 61.6514 \\\\\n",
       "\t16 & Azione & 25.0139 \\\\\n",
       "\t17 & Biografico & 29.5668 \\\\\n",
       "\t18 & Gangster & 160.656 \\\\\n",
       "\t19 & Sentimentale & 11.1892 \\\\\n",
       "\t20 & Mitologico & 25.5244 \\\\\n",
       "\t21 & Animazione & 33.1 \\\\\n",
       "\t22 & Musicale & 14.7698 \\\\\n",
       "\t23 & Spionaggio & 32.2226 \\\\\n",
       "\t24 & Sperimentale & 9.40553 \\\\\n",
       "\t25 & Noir & 71.2445 \\\\\n",
       "\t26 & Catastrofico & 41.6437 \\\\\n",
       "\t27 & Supereroi & 215.675 \\\\\n",
       "\t28 & Sportivo & 26.75 \\\\\n",
       "\\end{tabular}\n"
      ],
      "text/plain": [
       "28×2 DataFrame\n",
       "│ Row │ genero         │ x1      │\n",
       "│     │ \u001b[90mString\u001b[39m         │ \u001b[90mFloat64\u001b[39m │\n",
       "├─────┼────────────────┼─────────┤\n",
       "│ 1   │ Cortometraggio │ 3.36842 │\n",
       "│ 2   │ Drammatico     │ 21.9793 │\n",
       "│ 3   │ Biblico        │ 24.3462 │\n",
       "│ 4   │ Poliziesco     │ 20.9291 │\n",
       "│ 5   │ Avventura      │ 16.6926 │\n",
       "│ 6   │ Fantasy        │ 59.2495 │\n",
       "│ 7   │ Commedia       │ 26.3204 │\n",
       "│ 8   │ Storico        │ 25.2561 │\n",
       "│ 9   │ Mélo           │ 61.2105 │\n",
       "│ 10  │ Horror         │ 31.1787 │\n",
       "⋮\n",
       "│ 18  │ Gangster       │ 160.656 │\n",
       "│ 19  │ Sentimentale   │ 11.1892 │\n",
       "│ 20  │ Mitologico     │ 25.5244 │\n",
       "│ 21  │ Animazione     │ 33.1    │\n",
       "│ 22  │ Musicale       │ 14.7698 │\n",
       "│ 23  │ Spionaggio     │ 32.2226 │\n",
       "│ 24  │ Sperimentale   │ 9.40553 │\n",
       "│ 25  │ Noir           │ 71.2445 │\n",
       "│ 26  │ Catastrofico   │ 41.6437 │\n",
       "│ 27  │ Supereroi      │ 215.675 │\n",
       "│ 28  │ Sportivo       │ 26.75   │"
      ]
     },
     "execution_count": 48,
     "metadata": {},
     "output_type": "execute_result"
    }
   ],
   "source": [
    "by(movies_df, [:genero], movies_df -> mean(movies_df[:, :votos]))"
   ]
  },
  {
   "cell_type": "code",
   "execution_count": 49,
   "metadata": {},
   "outputs": [
    {
     "data": {
      "text/html": [
       "<table class=\"data-frame\"><thead><tr><th></th><th>ano</th><th>x1</th></tr><tr><th></th><th>Int64</th><th>Int64</th></tr></thead><tbody><p>110 rows × 2 columns</p><tr><th>1</th><td>1909</td><td>1</td></tr><tr><th>2</th><td>1911</td><td>2</td></tr><tr><th>3</th><td>1912</td><td>3</td></tr><tr><th>4</th><td>1913</td><td>8</td></tr><tr><th>5</th><td>1914</td><td>7</td></tr><tr><th>6</th><td>1915</td><td>14</td></tr><tr><th>7</th><td>1916</td><td>18</td></tr><tr><th>8</th><td>1917</td><td>11</td></tr><tr><th>9</th><td>1918</td><td>13</td></tr><tr><th>10</th><td>1919</td><td>17</td></tr><tr><th>11</th><td>1920</td><td>19</td></tr><tr><th>12</th><td>1921</td><td>26</td></tr><tr><th>13</th><td>1922</td><td>22</td></tr><tr><th>14</th><td>1923</td><td>18</td></tr><tr><th>15</th><td>1924</td><td>27</td></tr><tr><th>16</th><td>1925</td><td>36</td></tr><tr><th>17</th><td>1926</td><td>40</td></tr><tr><th>18</th><td>1927</td><td>34</td></tr><tr><th>19</th><td>1928</td><td>45</td></tr><tr><th>20</th><td>1929</td><td>53</td></tr><tr><th>21</th><td>1930</td><td>54</td></tr><tr><th>22</th><td>1931</td><td>74</td></tr><tr><th>23</th><td>1932</td><td>90</td></tr><tr><th>24</th><td>1933</td><td>96</td></tr><tr><th>25</th><td>1934</td><td>105</td></tr><tr><th>26</th><td>1935</td><td>116</td></tr><tr><th>27</th><td>1936</td><td>153</td></tr><tr><th>28</th><td>1937</td><td>147</td></tr><tr><th>29</th><td>1938</td><td>135</td></tr><tr><th>30</th><td>1939</td><td>172</td></tr><tr><th>&vellip;</th><td>&vellip;</td><td>&vellip;</td></tr></tbody></table>"
      ],
      "text/latex": [
       "\\begin{tabular}{r|cc}\n",
       "\t& ano & x1\\\\\n",
       "\t\\hline\n",
       "\t& Int64 & Int64\\\\\n",
       "\t\\hline\n",
       "\t1 & 1909 & 1 \\\\\n",
       "\t2 & 1911 & 2 \\\\\n",
       "\t3 & 1912 & 3 \\\\\n",
       "\t4 & 1913 & 8 \\\\\n",
       "\t5 & 1914 & 7 \\\\\n",
       "\t6 & 1915 & 14 \\\\\n",
       "\t7 & 1916 & 18 \\\\\n",
       "\t8 & 1917 & 11 \\\\\n",
       "\t9 & 1918 & 13 \\\\\n",
       "\t10 & 1919 & 17 \\\\\n",
       "\t11 & 1920 & 19 \\\\\n",
       "\t12 & 1921 & 26 \\\\\n",
       "\t13 & 1922 & 22 \\\\\n",
       "\t14 & 1923 & 18 \\\\\n",
       "\t15 & 1924 & 27 \\\\\n",
       "\t16 & 1925 & 36 \\\\\n",
       "\t17 & 1926 & 40 \\\\\n",
       "\t18 & 1927 & 34 \\\\\n",
       "\t19 & 1928 & 45 \\\\\n",
       "\t20 & 1929 & 53 \\\\\n",
       "\t21 & 1930 & 54 \\\\\n",
       "\t22 & 1931 & 74 \\\\\n",
       "\t23 & 1932 & 90 \\\\\n",
       "\t24 & 1933 & 96 \\\\\n",
       "\t25 & 1934 & 105 \\\\\n",
       "\t26 & 1935 & 116 \\\\\n",
       "\t27 & 1936 & 153 \\\\\n",
       "\t28 & 1937 & 147 \\\\\n",
       "\t29 & 1938 & 135 \\\\\n",
       "\t30 & 1939 & 172 \\\\\n",
       "\t$\\dots$ & $\\dots$ & $\\dots$ \\\\\n",
       "\\end{tabular}\n"
      ],
      "text/plain": [
       "110×2 DataFrame\n",
       "│ Row │ ano   │ x1    │\n",
       "│     │ \u001b[90mInt64\u001b[39m │ \u001b[90mInt64\u001b[39m │\n",
       "├─────┼───────┼───────┤\n",
       "│ 1   │ 1909  │ 1     │\n",
       "│ 2   │ 1911  │ 2     │\n",
       "│ 3   │ 1912  │ 3     │\n",
       "│ 4   │ 1913  │ 8     │\n",
       "│ 5   │ 1914  │ 7     │\n",
       "│ 6   │ 1915  │ 14    │\n",
       "│ 7   │ 1916  │ 18    │\n",
       "│ 8   │ 1917  │ 11    │\n",
       "│ 9   │ 1918  │ 13    │\n",
       "│ 10  │ 1919  │ 17    │\n",
       "⋮\n",
       "│ 100 │ 2009  │ 1244  │\n",
       "│ 101 │ 2010  │ 1281  │\n",
       "│ 102 │ 2011  │ 1452  │\n",
       "│ 103 │ 2012  │ 1475  │\n",
       "│ 104 │ 2013  │ 1612  │\n",
       "│ 105 │ 2014  │ 1599  │\n",
       "│ 106 │ 2015  │ 1618  │\n",
       "│ 107 │ 2016  │ 1648  │\n",
       "│ 108 │ 2017  │ 1564  │\n",
       "│ 109 │ 2018  │ 1341  │\n",
       "│ 110 │ 2019  │ 646   │"
      ]
     },
     "execution_count": 49,
     "metadata": {},
     "output_type": "execute_result"
    }
   ],
   "source": [
    "by(movies_df, :ano, nrow)"
   ]
  },
  {
   "cell_type": "code",
   "execution_count": 50,
   "metadata": {},
   "outputs": [
    {
     "data": {
      "text/plain": [
       "53282-element Array{Int64,1}:\n",
       " 432\n",
       "  68\n",
       " 536\n",
       "  40\n",
       " 120\n",
       "  71\n",
       "  54\n",
       "  45\n",
       "  90\n",
       " 120\n",
       "  96\n",
       " 121\n",
       "  48\n",
       "   ⋮\n",
       " 122\n",
       "  86\n",
       "  95\n",
       "  92\n",
       "  71\n",
       " 117\n",
       "  84\n",
       "  92\n",
       "  97\n",
       "  90\n",
       "  87\n",
       "  81"
      ]
     },
     "execution_count": 50,
     "metadata": {},
     "output_type": "execute_result"
    }
   ],
   "source": [
    "movies_df.duracao"
   ]
  },
  {
   "cell_type": "code",
   "execution_count": 51,
   "metadata": {
    "scrolled": false
   },
   "outputs": [
    {
     "data": {
      "text/plain": [
       "53282-element Array{Float64,1}:\n",
       " 7.2               \n",
       " 1.1333333333333333\n",
       " 8.933333333333334 \n",
       " 0.6666666666666666\n",
       " 2.0               \n",
       " 1.1833333333333333\n",
       " 0.9               \n",
       " 0.75              \n",
       " 1.5               \n",
       " 2.0               \n",
       " 1.6               \n",
       " 2.0166666666666666\n",
       " 0.8               \n",
       " ⋮                 \n",
       " 2.033333333333333 \n",
       " 1.4333333333333333\n",
       " 1.5833333333333333\n",
       " 1.5333333333333334\n",
       " 1.1833333333333333\n",
       " 1.95              \n",
       " 1.4               \n",
       " 1.5333333333333334\n",
       " 1.6166666666666667\n",
       " 1.5               \n",
       " 1.45              \n",
       " 1.35              "
      ]
     },
     "execution_count": 51,
     "metadata": {},
     "output_type": "execute_result"
    }
   ],
   "source": [
    "movies_df[!, :duracao_horas] = movies_df.duracao / 60"
   ]
  },
  {
   "cell_type": "code",
   "execution_count": 52,
   "metadata": {},
   "outputs": [
    {
     "data": {
      "text/plain": [
       "6-element Array{Symbol,1}:\n",
       " :titulo       \n",
       " :ano          \n",
       " :genero       \n",
       " :duracao      \n",
       " :votos        \n",
       " :duracao_horas"
      ]
     },
     "execution_count": 52,
     "metadata": {},
     "output_type": "execute_result"
    }
   ],
   "source": [
    "names(movies_df)"
   ]
  },
  {
   "cell_type": "code",
   "execution_count": 53,
   "metadata": {},
   "outputs": [
    {
     "data": {
      "text/plain": [
       "1.6411868298237051"
      ]
     },
     "execution_count": 53,
     "metadata": {},
     "output_type": "execute_result"
    }
   ],
   "source": [
    "mean(movies_df.duracao_horas)"
   ]
  },
  {
   "cell_type": "code",
   "execution_count": 54,
   "metadata": {},
   "outputs": [
    {
     "data": {
      "text/html": [
       "<table class=\"data-frame\"><thead><tr><th></th><th>titulo</th><th>duracao</th><th>duracao_horas</th></tr><tr><th></th><th>String</th><th>Int64</th><th>Float64</th></tr></thead><tbody><p>53,282 rows × 3 columns</p><tr><th>1</th><td>Le voleur invisible</td><td>432</td><td>7.2</td></tr><tr><th>2</th><td>L'inferno</td><td>68</td><td>1.13333</td></tr><tr><th>3</th><td>Robinet aviatore</td><td>536</td><td>8.93333</td></tr><tr><th>4</th><td>Les amours de la reine Élisabeth</td><td>40</td><td>0.666667</td></tr><tr><th>5</th><td>Quo vadis?</td><td>120</td><td>2.0</td></tr><tr><th>6</th><td>From the Manger to the Cross; or, Jesus of Nazareth</td><td>71</td><td>1.18333</td></tr><tr><th>7</th><td>Fantômas - À l'ombre de la guillotine</td><td>54</td><td>0.9</td></tr><tr><th>8</th><td>Juve contre Fantômas</td><td>45</td><td>0.75</td></tr><tr><th>9</th><td>La mort qui tue</td><td>90</td><td>1.5</td></tr><tr><th>10</th><td>Ma l'amore mio non muore</td><td>120</td><td>2.0</td></tr><tr><th>11</th><td>Ingeborg Holm</td><td>96</td><td>1.6</td></tr><tr><th>12</th><td>Atlantis</td><td>121</td><td>2.01667</td></tr><tr><th>13</th><td>Ivanhoe</td><td>48</td><td>0.8</td></tr><tr><th>14</th><td>Noch pered Rozhdestvom</td><td>41</td><td>0.683333</td></tr><tr><th>15</th><td>Cabiria</td><td>114</td><td>1.9</td></tr><tr><th>16</th><td>Fantômas contre Fantômas</td><td>59</td><td>0.983333</td></tr><tr><th>17</th><td>Le faux magistrat</td><td>70</td><td>1.16667</td></tr><tr><th>18</th><td>Judith of Betulia</td><td>46</td><td>0.766667</td></tr><tr><th>19</th><td>Tillie's Punctured Romance</td><td>82</td><td>1.36667</td></tr><tr><th>20</th><td>Det hemmelighedsfulde X</td><td>84</td><td>1.4</td></tr><tr><th>21</th><td>Sangue blu</td><td>55</td><td>0.916667</td></tr><tr><th>22</th><td>The Birth of a Nation</td><td>165</td><td>2.75</td></tr><tr><th>23</th><td>The Cheat</td><td>59</td><td>0.983333</td></tr><tr><th>24</th><td>Rapsodia satanica</td><td>40</td><td>0.666667</td></tr><tr><th>25</th><td>Les Vampires</td><td>57</td><td>0.95</td></tr><tr><th>26</th><td>Les Vampires</td><td>86</td><td>1.43333</td></tr><tr><th>27</th><td>Les Vampires</td><td>113</td><td>1.88333</td></tr><tr><th>28</th><td>Les Vampires</td><td>124</td><td>2.06667</td></tr><tr><th>29</th><td>Assunta Spina</td><td>50</td><td>0.833333</td></tr><tr><th>30</th><td>Hypocrites</td><td>49</td><td>0.816667</td></tr><tr><th>&vellip;</th><td>&vellip;</td><td>&vellip;</td><td>&vellip;</td></tr></tbody></table>"
      ],
      "text/latex": [
       "\\begin{tabular}{r|ccc}\n",
       "\t& titulo & duracao & duracao\\_horas\\\\\n",
       "\t\\hline\n",
       "\t& String & Int64 & Float64\\\\\n",
       "\t\\hline\n",
       "\t1 & Le voleur invisible & 432 & 7.2 \\\\\n",
       "\t2 & L'inferno & 68 & 1.13333 \\\\\n",
       "\t3 & Robinet aviatore & 536 & 8.93333 \\\\\n",
       "\t4 & Les amours de la reine Élisabeth & 40 & 0.666667 \\\\\n",
       "\t5 & Quo vadis? & 120 & 2.0 \\\\\n",
       "\t6 & From the Manger to the Cross; or, Jesus of Nazareth & 71 & 1.18333 \\\\\n",
       "\t7 & Fantômas - À l'ombre de la guillotine & 54 & 0.9 \\\\\n",
       "\t8 & Juve contre Fantômas & 45 & 0.75 \\\\\n",
       "\t9 & La mort qui tue & 90 & 1.5 \\\\\n",
       "\t10 & Ma l'amore mio non muore & 120 & 2.0 \\\\\n",
       "\t11 & Ingeborg Holm & 96 & 1.6 \\\\\n",
       "\t12 & Atlantis & 121 & 2.01667 \\\\\n",
       "\t13 & Ivanhoe & 48 & 0.8 \\\\\n",
       "\t14 & Noch pered Rozhdestvom & 41 & 0.683333 \\\\\n",
       "\t15 & Cabiria & 114 & 1.9 \\\\\n",
       "\t16 & Fantômas contre Fantômas & 59 & 0.983333 \\\\\n",
       "\t17 & Le faux magistrat & 70 & 1.16667 \\\\\n",
       "\t18 & Judith of Betulia & 46 & 0.766667 \\\\\n",
       "\t19 & Tillie's Punctured Romance & 82 & 1.36667 \\\\\n",
       "\t20 & Det hemmelighedsfulde X & 84 & 1.4 \\\\\n",
       "\t21 & Sangue blu & 55 & 0.916667 \\\\\n",
       "\t22 & The Birth of a Nation & 165 & 2.75 \\\\\n",
       "\t23 & The Cheat & 59 & 0.983333 \\\\\n",
       "\t24 & Rapsodia satanica & 40 & 0.666667 \\\\\n",
       "\t25 & Les Vampires & 57 & 0.95 \\\\\n",
       "\t26 & Les Vampires & 86 & 1.43333 \\\\\n",
       "\t27 & Les Vampires & 113 & 1.88333 \\\\\n",
       "\t28 & Les Vampires & 124 & 2.06667 \\\\\n",
       "\t29 & Assunta Spina & 50 & 0.833333 \\\\\n",
       "\t30 & Hypocrites & 49 & 0.816667 \\\\\n",
       "\t$\\dots$ & $\\dots$ & $\\dots$ & $\\dots$ \\\\\n",
       "\\end{tabular}\n"
      ],
      "text/plain": [
       "53282×3 DataFrame. Omitted printing of 1 columns\n",
       "│ Row   │ titulo                                              │ duracao │\n",
       "│       │ \u001b[90mString\u001b[39m                                              │ \u001b[90mInt64\u001b[39m   │\n",
       "├───────┼─────────────────────────────────────────────────────┼─────────┤\n",
       "│ 1     │ Le voleur invisible                                 │ 432     │\n",
       "│ 2     │ L'inferno                                           │ 68      │\n",
       "│ 3     │ Robinet aviatore                                    │ 536     │\n",
       "│ 4     │ Les amours de la reine Élisabeth                    │ 40      │\n",
       "│ 5     │ Quo vadis?                                          │ 120     │\n",
       "│ 6     │ From the Manger to the Cross; or, Jesus of Nazareth │ 71      │\n",
       "│ 7     │ Fantômas - À l'ombre de la guillotine               │ 54      │\n",
       "│ 8     │ Juve contre Fantômas                                │ 45      │\n",
       "│ 9     │ La mort qui tue                                     │ 90      │\n",
       "│ 10    │ Ma l'amore mio non muore                            │ 120     │\n",
       "⋮\n",
       "│ 53272 │ Irréversible - Inversion intégrale                  │ 86      │\n",
       "│ 53273 │ Bar Giuseppe                                        │ 95      │\n",
       "│ 53274 │ Our Godfather                                       │ 92      │\n",
       "│ 53275 │ The Haunting of La Llorona                          │ 71      │\n",
       "│ 53276 │ Hallowed Ground                                     │ 117     │\n",
       "│ 53277 │ Travis Scott: Look Mom I Can Fly                    │ 84      │\n",
       "│ 53278 │ I Am Patrick Swayze                                 │ 92      │\n",
       "│ 53279 │ Ne pozabi dihati                                    │ 97      │\n",
       "│ 53280 │ Famosa                                              │ 90      │\n",
       "│ 53281 │ Clown                                               │ 87      │\n",
       "│ 53282 │ Big Top Evil                                        │ 81      │"
      ]
     },
     "execution_count": 54,
     "metadata": {},
     "output_type": "execute_result"
    }
   ],
   "source": [
    "movies_df[:,[:titulo,:duracao,:duracao_horas]]"
   ]
  },
  {
   "cell_type": "code",
   "execution_count": 55,
   "metadata": {
    "scrolled": true
   },
   "outputs": [
    {
     "data": {
      "text/html": [
       "<table class=\"data-frame\"><thead><tr><th></th><th>titulo</th><th>ano</th><th>genero</th><th>duracao</th></tr><tr><th></th><th>String</th><th>Int64</th><th>String</th><th>Int64</th></tr></thead><tbody><p>53,282 rows × 5 columns (omitted printing of 1 columns)</p><tr><th>1</th><td>Le voleur invisible</td><td>1909</td><td>Cortometraggio</td><td>432</td></tr><tr><th>2</th><td>L'inferno</td><td>1911</td><td>Drammatico</td><td>68</td></tr><tr><th>3</th><td>Robinet aviatore</td><td>1911</td><td>Cortometraggio</td><td>536</td></tr><tr><th>4</th><td>Les amours de la reine Élisabeth</td><td>1912</td><td>Drammatico</td><td>40</td></tr><tr><th>5</th><td>Quo vadis?</td><td>1912</td><td>Drammatico</td><td>120</td></tr><tr><th>6</th><td>From the Manger to the Cross; or, Jesus of Nazareth</td><td>1912</td><td>Biblico</td><td>71</td></tr><tr><th>7</th><td>Fantômas - À l'ombre de la guillotine</td><td>1913</td><td>Poliziesco</td><td>54</td></tr><tr><th>8</th><td>Juve contre Fantômas</td><td>1913</td><td>Poliziesco</td><td>45</td></tr><tr><th>9</th><td>La mort qui tue</td><td>1913</td><td>Poliziesco</td><td>90</td></tr><tr><th>10</th><td>Ma l'amore mio non muore</td><td>1913</td><td>Drammatico</td><td>120</td></tr><tr><th>11</th><td>Ingeborg Holm</td><td>1913</td><td>Drammatico</td><td>96</td></tr><tr><th>12</th><td>Atlantis</td><td>1913</td><td>Drammatico</td><td>121</td></tr><tr><th>13</th><td>Ivanhoe</td><td>1913</td><td>Avventura</td><td>48</td></tr><tr><th>14</th><td>Noch pered Rozhdestvom</td><td>1913</td><td>Fantasy</td><td>41</td></tr><tr><th>15</th><td>Cabiria</td><td>1914</td><td>Drammatico</td><td>114</td></tr><tr><th>16</th><td>Fantômas contre Fantômas</td><td>1914</td><td>Poliziesco</td><td>59</td></tr><tr><th>17</th><td>Le faux magistrat</td><td>1914</td><td>Poliziesco</td><td>70</td></tr><tr><th>18</th><td>Judith of Betulia</td><td>1914</td><td>Drammatico</td><td>46</td></tr><tr><th>19</th><td>Tillie's Punctured Romance</td><td>1914</td><td>Commedia</td><td>82</td></tr><tr><th>20</th><td>Det hemmelighedsfulde X</td><td>1914</td><td>Drammatico</td><td>84</td></tr><tr><th>21</th><td>Sangue blu</td><td>1914</td><td>Drammatico</td><td>55</td></tr><tr><th>22</th><td>The Birth of a Nation</td><td>1915</td><td>Storico</td><td>165</td></tr><tr><th>23</th><td>The Cheat</td><td>1915</td><td>Drammatico</td><td>59</td></tr><tr><th>24</th><td>Rapsodia satanica</td><td>1915</td><td>Drammatico</td><td>40</td></tr><tr><th>25</th><td>Les Vampires</td><td>1915</td><td>Avventura</td><td>57</td></tr><tr><th>26</th><td>Les Vampires</td><td>1915</td><td>Avventura</td><td>86</td></tr><tr><th>27</th><td>Les Vampires</td><td>1915</td><td>Avventura</td><td>113</td></tr><tr><th>28</th><td>Les Vampires</td><td>1915</td><td>Avventura</td><td>124</td></tr><tr><th>29</th><td>Assunta Spina</td><td>1915</td><td>Drammatico</td><td>50</td></tr><tr><th>30</th><td>Hypocrites</td><td>1915</td><td>Drammatico</td><td>49</td></tr><tr><th>&vellip;</th><td>&vellip;</td><td>&vellip;</td><td>&vellip;</td><td>&vellip;</td></tr></tbody></table>"
      ],
      "text/latex": [
       "\\begin{tabular}{r|ccccc}\n",
       "\t& titulo & ano & genero & duracao & \\\\\n",
       "\t\\hline\n",
       "\t& String & Int64 & String & Int64 & \\\\\n",
       "\t\\hline\n",
       "\t1 & Le voleur invisible & 1909 & Cortometraggio & 432 & $\\dots$ \\\\\n",
       "\t2 & L'inferno & 1911 & Drammatico & 68 & $\\dots$ \\\\\n",
       "\t3 & Robinet aviatore & 1911 & Cortometraggio & 536 & $\\dots$ \\\\\n",
       "\t4 & Les amours de la reine Élisabeth & 1912 & Drammatico & 40 & $\\dots$ \\\\\n",
       "\t5 & Quo vadis? & 1912 & Drammatico & 120 & $\\dots$ \\\\\n",
       "\t6 & From the Manger to the Cross; or, Jesus of Nazareth & 1912 & Biblico & 71 & $\\dots$ \\\\\n",
       "\t7 & Fantômas - À l'ombre de la guillotine & 1913 & Poliziesco & 54 & $\\dots$ \\\\\n",
       "\t8 & Juve contre Fantômas & 1913 & Poliziesco & 45 & $\\dots$ \\\\\n",
       "\t9 & La mort qui tue & 1913 & Poliziesco & 90 & $\\dots$ \\\\\n",
       "\t10 & Ma l'amore mio non muore & 1913 & Drammatico & 120 & $\\dots$ \\\\\n",
       "\t11 & Ingeborg Holm & 1913 & Drammatico & 96 & $\\dots$ \\\\\n",
       "\t12 & Atlantis & 1913 & Drammatico & 121 & $\\dots$ \\\\\n",
       "\t13 & Ivanhoe & 1913 & Avventura & 48 & $\\dots$ \\\\\n",
       "\t14 & Noch pered Rozhdestvom & 1913 & Fantasy & 41 & $\\dots$ \\\\\n",
       "\t15 & Cabiria & 1914 & Drammatico & 114 & $\\dots$ \\\\\n",
       "\t16 & Fantômas contre Fantômas & 1914 & Poliziesco & 59 & $\\dots$ \\\\\n",
       "\t17 & Le faux magistrat & 1914 & Poliziesco & 70 & $\\dots$ \\\\\n",
       "\t18 & Judith of Betulia & 1914 & Drammatico & 46 & $\\dots$ \\\\\n",
       "\t19 & Tillie's Punctured Romance & 1914 & Commedia & 82 & $\\dots$ \\\\\n",
       "\t20 & Det hemmelighedsfulde X & 1914 & Drammatico & 84 & $\\dots$ \\\\\n",
       "\t21 & Sangue blu & 1914 & Drammatico & 55 & $\\dots$ \\\\\n",
       "\t22 & The Birth of a Nation & 1915 & Storico & 165 & $\\dots$ \\\\\n",
       "\t23 & The Cheat & 1915 & Drammatico & 59 & $\\dots$ \\\\\n",
       "\t24 & Rapsodia satanica & 1915 & Drammatico & 40 & $\\dots$ \\\\\n",
       "\t25 & Les Vampires & 1915 & Avventura & 57 & $\\dots$ \\\\\n",
       "\t26 & Les Vampires & 1915 & Avventura & 86 & $\\dots$ \\\\\n",
       "\t27 & Les Vampires & 1915 & Avventura & 113 & $\\dots$ \\\\\n",
       "\t28 & Les Vampires & 1915 & Avventura & 124 & $\\dots$ \\\\\n",
       "\t29 & Assunta Spina & 1915 & Drammatico & 50 & $\\dots$ \\\\\n",
       "\t30 & Hypocrites & 1915 & Drammatico & 49 & $\\dots$ \\\\\n",
       "\t$\\dots$ & $\\dots$ & $\\dots$ & $\\dots$ & $\\dots$ &  \\\\\n",
       "\\end{tabular}\n"
      ],
      "text/plain": [
       "53282×5 DataFrame. Omitted printing of 3 columns\n",
       "│ Row   │ titulo                                              │ ano   │\n",
       "│       │ \u001b[90mString\u001b[39m                                              │ \u001b[90mInt64\u001b[39m │\n",
       "├───────┼─────────────────────────────────────────────────────┼───────┤\n",
       "│ 1     │ Le voleur invisible                                 │ 1909  │\n",
       "│ 2     │ L'inferno                                           │ 1911  │\n",
       "│ 3     │ Robinet aviatore                                    │ 1911  │\n",
       "│ 4     │ Les amours de la reine Élisabeth                    │ 1912  │\n",
       "│ 5     │ Quo vadis?                                          │ 1912  │\n",
       "│ 6     │ From the Manger to the Cross; or, Jesus of Nazareth │ 1912  │\n",
       "│ 7     │ Fantômas - À l'ombre de la guillotine               │ 1913  │\n",
       "│ 8     │ Juve contre Fantômas                                │ 1913  │\n",
       "│ 9     │ La mort qui tue                                     │ 1913  │\n",
       "│ 10    │ Ma l'amore mio non muore                            │ 1913  │\n",
       "⋮\n",
       "│ 53272 │ Irréversible - Inversion intégrale                  │ 2019  │\n",
       "│ 53273 │ Bar Giuseppe                                        │ 2019  │\n",
       "│ 53274 │ Our Godfather                                       │ 2019  │\n",
       "│ 53275 │ The Haunting of La Llorona                          │ 2019  │\n",
       "│ 53276 │ Hallowed Ground                                     │ 2019  │\n",
       "│ 53277 │ Travis Scott: Look Mom I Can Fly                    │ 2019  │\n",
       "│ 53278 │ I Am Patrick Swayze                                 │ 2019  │\n",
       "│ 53279 │ Ne pozabi dihati                                    │ 2019  │\n",
       "│ 53280 │ Famosa                                              │ 2019  │\n",
       "│ 53281 │ Clown                                               │ 2019  │\n",
       "│ 53282 │ Big Top Evil                                        │ 2019  │"
      ]
     },
     "execution_count": 55,
     "metadata": {},
     "output_type": "execute_result"
    }
   ],
   "source": [
    "#delete\n",
    "select!(movies_df, Not(:duracao_horas))"
   ]
  },
  {
   "cell_type": "code",
   "execution_count": 60,
   "metadata": {},
   "outputs": [
    {
     "data": {
      "text/html": [
       "<table class=\"data-frame\"><thead><tr><th></th><th>titulo</th><th>ano</th><th>genero</th><th>duracao</th><th>votos</th></tr><tr><th></th><th>String</th><th>Int64</th><th>String</th><th>Int64</th><th>Int64</th></tr></thead><tbody><p>968 rows × 5 columns</p><tr><th>1</th><td>Non ho sonno</td><td>2001</td><td>Thriller</td><td>117</td><td>176</td></tr><tr><th>2</th><td>Ogni lasciato è perso</td><td>2001</td><td>Commedia</td><td>110</td><td>8</td></tr><tr><th>3</th><td>Domani</td><td>2001</td><td>Drammatico</td><td>110</td><td>19</td></tr><tr><th>4</th><td>Commedia sexy</td><td>2001</td><td>Commedia</td><td>95</td><td>32</td></tr><tr><th>5</th><td>Domenica</td><td>2001</td><td>Drammatico</td><td>95</td><td>13</td></tr><tr><th>6</th><td>L'ultimo bacio</td><td>2001</td><td>Commedia</td><td>115</td><td>252</td></tr><tr><th>7</th><td>Sos laribiancos - I dimenticati</td><td>2001</td><td>Drammatico</td><td>120</td><td>16</td></tr><tr><th>8</th><td>Hannibal</td><td>2001</td><td>Thriller</td><td>128</td><td>215</td></tr><tr><th>9</th><td>La ville est tranquille</td><td>2001</td><td>Commedia</td><td>154</td><td>23</td></tr><tr><th>10</th><td>Gostanza da Libbiano</td><td>2001</td><td>Drammatico</td><td>92</td><td>35</td></tr><tr><th>11</th><td>Una lunga, lunga, lunga, notte d'amore</td><td>2001</td><td>Drammatico</td><td>90</td><td>7</td></tr><tr><th>12</th><td>Concorrenza sleale</td><td>2001</td><td>Commedia</td><td>100</td><td>74</td></tr><tr><th>13</th><td>E adesso sesso</td><td>2001</td><td>Commedia</td><td>95</td><td>43</td></tr><tr><th>14</th><td>Le fate ignoranti</td><td>2001</td><td>Drammatico</td><td>106</td><td>268</td></tr><tr><th>15</th><td>Amarsi può darsi</td><td>2001</td><td>Commedia</td><td>95</td><td>11</td></tr><tr><th>16</th><td>Honolulu Baby</td><td>2001</td><td>Commedia</td><td>90</td><td>10</td></tr><tr><th>17</th><td>Amici ahrarara</td><td>2001</td><td>Commedia</td><td>95</td><td>18</td></tr><tr><th>18</th><td>Tommaso</td><td>2001</td><td>Biblico</td><td>90</td><td>7</td></tr><tr><th>19</th><td>I cavalieri che fecero l'impresa</td><td>2001</td><td>Drammatico</td><td>147</td><td>49</td></tr><tr><th>20</th><td>Stregati dalla luna</td><td>2001</td><td>Commedia</td><td>91</td><td>5</td></tr><tr><th>21</th><td>Sous le sable</td><td>2001</td><td>Drammatico</td><td>87</td><td>50</td></tr><tr><th>22</th><td>Chimera</td><td>2001</td><td>Commedia</td><td>90</td><td>13</td></tr><tr><th>23</th><td>Il terzo segreto di Fatima</td><td>2001</td><td>Drammatico</td><td>90</td><td>3</td></tr><tr><th>24</th><td>Vercingétorix</td><td>2001</td><td>Azione</td><td>120</td><td>15</td></tr><tr><th>25</th><td>Il mestiere delle armi</td><td>2001</td><td>Drammatico</td><td>105</td><td>151</td></tr><tr><th>26</th><td>AntiTrust</td><td>2001</td><td>Thriller</td><td>108</td><td>50</td></tr><tr><th>27</th><td>La bella di Mosca</td><td>2001</td><td>Drammatico</td><td>105</td><td>7</td></tr><tr><th>28</th><td>Vipera</td><td>2001</td><td>Drammatico</td><td>90</td><td>13</td></tr><tr><th>29</th><td>I nostri anni</td><td>2001</td><td>Drammatico</td><td>90</td><td>10</td></tr><tr><th>30</th><td>The Center of the World</td><td>2001</td><td>Drammatico</td><td>87</td><td>4</td></tr><tr><th>&vellip;</th><td>&vellip;</td><td>&vellip;</td><td>&vellip;</td><td>&vellip;</td><td>&vellip;</td></tr></tbody></table>"
      ],
      "text/latex": [
       "\\begin{tabular}{r|ccccc}\n",
       "\t& titulo & ano & genero & duracao & votos\\\\\n",
       "\t\\hline\n",
       "\t& String & Int64 & String & Int64 & Int64\\\\\n",
       "\t\\hline\n",
       "\t1 & Non ho sonno & 2001 & Thriller & 117 & 176 \\\\\n",
       "\t2 & Ogni lasciato è perso & 2001 & Commedia & 110 & 8 \\\\\n",
       "\t3 & Domani & 2001 & Drammatico & 110 & 19 \\\\\n",
       "\t4 & Commedia sexy & 2001 & Commedia & 95 & 32 \\\\\n",
       "\t5 & Domenica & 2001 & Drammatico & 95 & 13 \\\\\n",
       "\t6 & L'ultimo bacio & 2001 & Commedia & 115 & 252 \\\\\n",
       "\t7 & Sos laribiancos - I dimenticati & 2001 & Drammatico & 120 & 16 \\\\\n",
       "\t8 & Hannibal & 2001 & Thriller & 128 & 215 \\\\\n",
       "\t9 & La ville est tranquille & 2001 & Commedia & 154 & 23 \\\\\n",
       "\t10 & Gostanza da Libbiano & 2001 & Drammatico & 92 & 35 \\\\\n",
       "\t11 & Una lunga, lunga, lunga, notte d'amore & 2001 & Drammatico & 90 & 7 \\\\\n",
       "\t12 & Concorrenza sleale & 2001 & Commedia & 100 & 74 \\\\\n",
       "\t13 & E adesso sesso & 2001 & Commedia & 95 & 43 \\\\\n",
       "\t14 & Le fate ignoranti & 2001 & Drammatico & 106 & 268 \\\\\n",
       "\t15 & Amarsi può darsi & 2001 & Commedia & 95 & 11 \\\\\n",
       "\t16 & Honolulu Baby & 2001 & Commedia & 90 & 10 \\\\\n",
       "\t17 & Amici ahrarara & 2001 & Commedia & 95 & 18 \\\\\n",
       "\t18 & Tommaso & 2001 & Biblico & 90 & 7 \\\\\n",
       "\t19 & I cavalieri che fecero l'impresa & 2001 & Drammatico & 147 & 49 \\\\\n",
       "\t20 & Stregati dalla luna & 2001 & Commedia & 91 & 5 \\\\\n",
       "\t21 & Sous le sable & 2001 & Drammatico & 87 & 50 \\\\\n",
       "\t22 & Chimera & 2001 & Commedia & 90 & 13 \\\\\n",
       "\t23 & Il terzo segreto di Fatima & 2001 & Drammatico & 90 & 3 \\\\\n",
       "\t24 & Vercingétorix & 2001 & Azione & 120 & 15 \\\\\n",
       "\t25 & Il mestiere delle armi & 2001 & Drammatico & 105 & 151 \\\\\n",
       "\t26 & AntiTrust & 2001 & Thriller & 108 & 50 \\\\\n",
       "\t27 & La bella di Mosca & 2001 & Drammatico & 105 & 7 \\\\\n",
       "\t28 & Vipera & 2001 & Drammatico & 90 & 13 \\\\\n",
       "\t29 & I nostri anni & 2001 & Drammatico & 90 & 10 \\\\\n",
       "\t30 & The Center of the World & 2001 & Drammatico & 87 & 4 \\\\\n",
       "\t$\\dots$ & $\\dots$ & $\\dots$ & $\\dots$ & $\\dots$ & $\\dots$ \\\\\n",
       "\\end{tabular}\n"
      ],
      "text/plain": [
       "968×5 DataFrame. Omitted printing of 2 columns\n",
       "│ Row │ titulo                                 │ ano   │ genero       │\n",
       "│     │ \u001b[90mString\u001b[39m                                 │ \u001b[90mInt64\u001b[39m │ \u001b[90mString\u001b[39m       │\n",
       "├─────┼────────────────────────────────────────┼───────┼──────────────┤\n",
       "│ 1   │ Non ho sonno                           │ 2001  │ Thriller     │\n",
       "│ 2   │ Ogni lasciato è perso                  │ 2001  │ Commedia     │\n",
       "│ 3   │ Domani                                 │ 2001  │ Drammatico   │\n",
       "│ 4   │ Commedia sexy                          │ 2001  │ Commedia     │\n",
       "│ 5   │ Domenica                               │ 2001  │ Drammatico   │\n",
       "│ 6   │ L'ultimo bacio                         │ 2001  │ Commedia     │\n",
       "│ 7   │ Sos laribiancos - I dimenticati        │ 2001  │ Drammatico   │\n",
       "│ 8   │ Hannibal                               │ 2001  │ Thriller     │\n",
       "│ 9   │ La ville est tranquille                │ 2001  │ Commedia     │\n",
       "│ 10  │ Gostanza da Libbiano                   │ 2001  │ Drammatico   │\n",
       "⋮\n",
       "│ 958 │ Diary of a Sex Addict                  │ 2001  │ Drammatico   │\n",
       "│ 959 │ XCU: Extreme Close Up                  │ 2001  │ Thriller     │\n",
       "│ 960 │ Øyenstikker                            │ 2001  │ Drammatico   │\n",
       "│ 961 │ Just Ask My Children                   │ 2001  │ Drammatico   │\n",
       "│ 962 │ Ice Planet                             │ 2001  │ Fantasy      │\n",
       "│ 963 │ On the Edge                            │ 2001  │ Drammatico   │\n",
       "│ 964 │ Made                                   │ 2001  │ Commedia     │\n",
       "│ 965 │ Rivers and Tides                       │ 2001  │ Documentario │\n",
       "│ 966 │ Tabloid                                │ 2001  │ Thriller     │\n",
       "│ 967 │ La chambre des officiers               │ 2001  │ Drammatico   │\n",
       "│ 968 │ Abraxas - Riti segreti dall'oltretomba │ 2001  │ Horror       │"
      ]
     },
     "execution_count": 60,
     "metadata": {},
     "output_type": "execute_result"
    }
   ],
   "source": [
    "#filtrar periodos\n",
    "movies_df[.&(movies_df.ano .> 2000, movies_df.ano .< 2002), : ]"
   ]
  },
  {
   "cell_type": "code",
   "execution_count": 63,
   "metadata": {},
   "outputs": [
    {
     "data": {
      "text/html": [
       "<table class=\"data-frame\"><thead><tr><th></th><th>titulo</th><th>ano</th><th>genero</th><th>duracao</th><th>votos</th></tr><tr><th></th><th>String</th><th>Int64</th><th>String</th><th>Int64</th><th>Int64</th></tr></thead><tbody><p>23,365 rows × 5 columns</p><tr><th>1</th><td>Non ho sonno</td><td>2001</td><td>Thriller</td><td>60</td><td>176</td></tr><tr><th>2</th><td>Ogni lasciato è perso</td><td>2001</td><td>Commedia</td><td>60</td><td>8</td></tr><tr><th>3</th><td>Domani</td><td>2001</td><td>Drammatico</td><td>60</td><td>19</td></tr><tr><th>4</th><td>Commedia sexy</td><td>2001</td><td>Commedia</td><td>60</td><td>32</td></tr><tr><th>5</th><td>Domenica</td><td>2001</td><td>Drammatico</td><td>60</td><td>13</td></tr><tr><th>6</th><td>L'ultimo bacio</td><td>2001</td><td>Commedia</td><td>60</td><td>252</td></tr><tr><th>7</th><td>Sos laribiancos - I dimenticati</td><td>2001</td><td>Drammatico</td><td>60</td><td>16</td></tr><tr><th>8</th><td>Hannibal</td><td>2001</td><td>Thriller</td><td>60</td><td>215</td></tr><tr><th>9</th><td>La ville est tranquille</td><td>2001</td><td>Commedia</td><td>60</td><td>23</td></tr><tr><th>10</th><td>Gostanza da Libbiano</td><td>2001</td><td>Drammatico</td><td>60</td><td>35</td></tr><tr><th>11</th><td>Una lunga, lunga, lunga, notte d'amore</td><td>2001</td><td>Drammatico</td><td>60</td><td>7</td></tr><tr><th>12</th><td>Concorrenza sleale</td><td>2001</td><td>Commedia</td><td>60</td><td>74</td></tr><tr><th>13</th><td>E adesso sesso</td><td>2001</td><td>Commedia</td><td>60</td><td>43</td></tr><tr><th>14</th><td>Le fate ignoranti</td><td>2001</td><td>Drammatico</td><td>60</td><td>268</td></tr><tr><th>15</th><td>Amarsi può darsi</td><td>2001</td><td>Commedia</td><td>60</td><td>11</td></tr><tr><th>16</th><td>Honolulu Baby</td><td>2001</td><td>Commedia</td><td>60</td><td>10</td></tr><tr><th>17</th><td>Amici ahrarara</td><td>2001</td><td>Commedia</td><td>60</td><td>18</td></tr><tr><th>18</th><td>Tommaso</td><td>2001</td><td>Biblico</td><td>60</td><td>7</td></tr><tr><th>19</th><td>I cavalieri che fecero l'impresa</td><td>2001</td><td>Drammatico</td><td>60</td><td>49</td></tr><tr><th>20</th><td>Stregati dalla luna</td><td>2001</td><td>Commedia</td><td>60</td><td>5</td></tr><tr><th>21</th><td>Sous le sable</td><td>2001</td><td>Drammatico</td><td>60</td><td>50</td></tr><tr><th>22</th><td>Chimera</td><td>2001</td><td>Commedia</td><td>60</td><td>13</td></tr><tr><th>23</th><td>Il terzo segreto di Fatima</td><td>2001</td><td>Drammatico</td><td>60</td><td>3</td></tr><tr><th>24</th><td>Vercingétorix</td><td>2001</td><td>Azione</td><td>60</td><td>15</td></tr><tr><th>25</th><td>Il mestiere delle armi</td><td>2001</td><td>Drammatico</td><td>60</td><td>151</td></tr><tr><th>26</th><td>AntiTrust</td><td>2001</td><td>Thriller</td><td>60</td><td>50</td></tr><tr><th>27</th><td>La bella di Mosca</td><td>2001</td><td>Drammatico</td><td>60</td><td>7</td></tr><tr><th>28</th><td>Vipera</td><td>2001</td><td>Drammatico</td><td>60</td><td>13</td></tr><tr><th>29</th><td>I nostri anni</td><td>2001</td><td>Drammatico</td><td>60</td><td>10</td></tr><tr><th>30</th><td>The Center of the World</td><td>2001</td><td>Drammatico</td><td>60</td><td>4</td></tr><tr><th>&vellip;</th><td>&vellip;</td><td>&vellip;</td><td>&vellip;</td><td>&vellip;</td><td>&vellip;</td></tr></tbody></table>"
      ],
      "text/latex": [
       "\\begin{tabular}{r|ccccc}\n",
       "\t& titulo & ano & genero & duracao & votos\\\\\n",
       "\t\\hline\n",
       "\t& String & Int64 & String & Int64 & Int64\\\\\n",
       "\t\\hline\n",
       "\t1 & Non ho sonno & 2001 & Thriller & 60 & 176 \\\\\n",
       "\t2 & Ogni lasciato è perso & 2001 & Commedia & 60 & 8 \\\\\n",
       "\t3 & Domani & 2001 & Drammatico & 60 & 19 \\\\\n",
       "\t4 & Commedia sexy & 2001 & Commedia & 60 & 32 \\\\\n",
       "\t5 & Domenica & 2001 & Drammatico & 60 & 13 \\\\\n",
       "\t6 & L'ultimo bacio & 2001 & Commedia & 60 & 252 \\\\\n",
       "\t7 & Sos laribiancos - I dimenticati & 2001 & Drammatico & 60 & 16 \\\\\n",
       "\t8 & Hannibal & 2001 & Thriller & 60 & 215 \\\\\n",
       "\t9 & La ville est tranquille & 2001 & Commedia & 60 & 23 \\\\\n",
       "\t10 & Gostanza da Libbiano & 2001 & Drammatico & 60 & 35 \\\\\n",
       "\t11 & Una lunga, lunga, lunga, notte d'amore & 2001 & Drammatico & 60 & 7 \\\\\n",
       "\t12 & Concorrenza sleale & 2001 & Commedia & 60 & 74 \\\\\n",
       "\t13 & E adesso sesso & 2001 & Commedia & 60 & 43 \\\\\n",
       "\t14 & Le fate ignoranti & 2001 & Drammatico & 60 & 268 \\\\\n",
       "\t15 & Amarsi può darsi & 2001 & Commedia & 60 & 11 \\\\\n",
       "\t16 & Honolulu Baby & 2001 & Commedia & 60 & 10 \\\\\n",
       "\t17 & Amici ahrarara & 2001 & Commedia & 60 & 18 \\\\\n",
       "\t18 & Tommaso & 2001 & Biblico & 60 & 7 \\\\\n",
       "\t19 & I cavalieri che fecero l'impresa & 2001 & Drammatico & 60 & 49 \\\\\n",
       "\t20 & Stregati dalla luna & 2001 & Commedia & 60 & 5 \\\\\n",
       "\t21 & Sous le sable & 2001 & Drammatico & 60 & 50 \\\\\n",
       "\t22 & Chimera & 2001 & Commedia & 60 & 13 \\\\\n",
       "\t23 & Il terzo segreto di Fatima & 2001 & Drammatico & 60 & 3 \\\\\n",
       "\t24 & Vercingétorix & 2001 & Azione & 60 & 15 \\\\\n",
       "\t25 & Il mestiere delle armi & 2001 & Drammatico & 60 & 151 \\\\\n",
       "\t26 & AntiTrust & 2001 & Thriller & 60 & 50 \\\\\n",
       "\t27 & La bella di Mosca & 2001 & Drammatico & 60 & 7 \\\\\n",
       "\t28 & Vipera & 2001 & Drammatico & 60 & 13 \\\\\n",
       "\t29 & I nostri anni & 2001 & Drammatico & 60 & 10 \\\\\n",
       "\t30 & The Center of the World & 2001 & Drammatico & 60 & 4 \\\\\n",
       "\t$\\dots$ & $\\dots$ & $\\dots$ & $\\dots$ & $\\dots$ & $\\dots$ \\\\\n",
       "\\end{tabular}\n"
      ],
      "text/plain": [
       "23365×5 DataFrame. Omitted printing of 1 columns\n",
       "│ Row   │ titulo                             │ ano   │ genero       │ duracao │\n",
       "│       │ \u001b[90mString\u001b[39m                             │ \u001b[90mInt64\u001b[39m │ \u001b[90mString\u001b[39m       │ \u001b[90mInt64\u001b[39m   │\n",
       "├───────┼────────────────────────────────────┼───────┼──────────────┼─────────┤\n",
       "│ 1     │ Non ho sonno                       │ 2001  │ Thriller     │ 60      │\n",
       "│ 2     │ Ogni lasciato è perso              │ 2001  │ Commedia     │ 60      │\n",
       "│ 3     │ Domani                             │ 2001  │ Drammatico   │ 60      │\n",
       "│ 4     │ Commedia sexy                      │ 2001  │ Commedia     │ 60      │\n",
       "│ 5     │ Domenica                           │ 2001  │ Drammatico   │ 60      │\n",
       "│ 6     │ L'ultimo bacio                     │ 2001  │ Commedia     │ 60      │\n",
       "│ 7     │ Sos laribiancos - I dimenticati    │ 2001  │ Drammatico   │ 60      │\n",
       "│ 8     │ Hannibal                           │ 2001  │ Thriller     │ 60      │\n",
       "│ 9     │ La ville est tranquille            │ 2001  │ Commedia     │ 60      │\n",
       "│ 10    │ Gostanza da Libbiano               │ 2001  │ Drammatico   │ 60      │\n",
       "⋮\n",
       "│ 23355 │ Irréversible - Inversion intégrale │ 2019  │ Drammatico   │ 60      │\n",
       "│ 23356 │ Bar Giuseppe                       │ 2019  │ Commedia     │ 60      │\n",
       "│ 23357 │ Our Godfather                      │ 2019  │ Documentario │ 60      │\n",
       "│ 23358 │ The Haunting of La Llorona         │ 2019  │ Horror       │ 60      │\n",
       "│ 23359 │ Hallowed Ground                    │ 2019  │ Horror       │ 60      │\n",
       "│ 23360 │ Travis Scott: Look Mom I Can Fly   │ 2019  │ Documentario │ 60      │\n",
       "│ 23361 │ I Am Patrick Swayze                │ 2019  │ Documentario │ 60      │\n",
       "│ 23362 │ Ne pozabi dihati                   │ 2019  │ Drammatico   │ 60      │\n",
       "│ 23363 │ Famosa                             │ 2019  │ Drammatico   │ 60      │\n",
       "│ 23364 │ Clown                              │ 2019  │ Horror       │ 60      │\n",
       "│ 23365 │ Big Top Evil                       │ 2019  │ Horror       │ 60      │"
      ]
     },
     "execution_count": 63,
     "metadata": {},
     "output_type": "execute_result"
    }
   ],
   "source": [
    "movies_df[.&(movies_df.ano .> 2000, movies_df.duracao .== 60), : ]"
   ]
  },
  {
   "cell_type": "code",
   "execution_count": 242,
   "metadata": {},
   "outputs": [
    {
     "data": {
      "text/plain": [
       "\"new01.csv\""
      ]
     },
     "execution_count": 242,
     "metadata": {},
     "output_type": "execute_result"
    }
   ],
   "source": [
    "CSV.write(\"new01.csv\", movies_df, append=false)"
   ]
  },
  {
   "cell_type": "code",
   "execution_count": 243,
   "metadata": {},
   "outputs": [
    {
     "name": "stdout",
     "output_type": "stream",
     "text": [
      "total 403668\n",
      "-rw-r--r--. 1 1000 1000 115498646 Feb  6 02:03 movies.csv\n",
      "-rw-r--r--. 1 1000 1000 235432960 Feb  6 02:02 movies.xls\n",
      "-rw-rw-r--. 1 1000 1000  56805060 Nov 28 21:07 movies.xlsx\n",
      "-rw-rw-r--. 1 1000 1000   2802296 Feb  6 04:18 new01.csv\n",
      "-rw-rw-r--. 1 1000 1000   2802250 Feb  6 04:17 new.csv\n"
     ]
    }
   ],
   "source": [
    ";ls -n"
   ]
  },
  {
   "cell_type": "code",
   "execution_count": null,
   "metadata": {},
   "outputs": [],
   "source": []
  }
 ],
 "metadata": {
  "kernelspec": {
   "display_name": "Julia 1.3.1",
   "language": "julia",
   "name": "julia-1.3"
  },
  "language_info": {
   "file_extension": ".jl",
   "mimetype": "application/julia",
   "name": "julia",
   "version": "1.3.1"
  }
 },
 "nbformat": 4,
 "nbformat_minor": 2
}
